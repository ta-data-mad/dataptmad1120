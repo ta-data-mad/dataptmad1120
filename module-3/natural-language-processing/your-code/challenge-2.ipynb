{
 "cells": [
  {
   "cell_type": "markdown",
   "metadata": {},
   "source": [
    "# Challenge 2: Sentiment Analysis\n",
    "\n",
    "In this challenge we will learn sentiment analysis and practice performing sentiment analysis on Twitter tweets. \n",
    "\n",
    "## Introduction\n",
    "\n",
    "Sentiment analysis is to *systematically identify, extract, quantify, and study affective states and subjective information* based on texts ([reference](https://en.wikipedia.org/wiki/Sentiment_analysis)). In simple words, it's to understand whether a person is happy or unhappy in producing the piece of text. Why we (or rather, companies) care about sentiment in texts? It's because by understanding the sentiments in texts, we will be able to know if our customers are happy or unhappy about our products and services. If they are unhappy, the subsequent action is to figure out what have caused the unhappiness and make improvements.\n",
    "\n",
    "Basic sentiment analysis only understands the *positive* or *negative* (sometimes *neutral* too) polarities of the sentiment. More advanced sentiment analysis will also consider dimensions such as agreement, subjectivity, confidence, irony, and so on. In this challenge we will conduct the basic positive vs negative sentiment analysis based on real Twitter tweets.\n",
    "\n",
    "NLTK comes with a [sentiment analysis package](https://www.nltk.org/api/nltk.sentiment.html). This package is great for dummies to perform sentiment analysis because it requires only the textual data to make predictions. For example:\n",
    "\n",
    "```python\n",
    ">>> from nltk.sentiment.vader import SentimentIntensityAnalyzer\n",
    ">>> txt = \"Ironhack is a Global Tech School ranked num 2 worldwide.  ",
    " ",
    "Our mission is to help people transform their careers and join a thriving community of tech professionals that love what they do.\"\n",
    ">>> analyzer = SentimentIntensityAnalyzer()\n",
    ">>> analyzer.polarity_scores(txt)\n",
    "{'neg': 0.0, 'neu': 0.741, 'pos': 0.259, 'compound': 0.8442}\n",
    "```\n",
    "\n",
    "In this challenge, however, you will not use NLTK's sentiment analysis package because in your Machine Learning training in the past 2 weeks you have learned how to make predictions more accurate than that. The [tweets data](https://www.kaggle.com/kazanova/sentiment140) we will be using today are already coded for the positive/negative sentiment. You will be able to use the Naïve Bayes classifier you learned in the lesson to predict the sentiment of tweets based on the labels."
   ]
  },
  {
   "cell_type": "markdown",
   "metadata": {},
   "source": [
    "## Conducting Sentiment Analysis\n",
    "\n",
    "### Loading and Exploring Data\n",
    "\n",
    "The dataset we'll be using today is located in the lab directory named `Sentiment140.csv.zip`. You need to unzip it into a `.csv` file. Then in the cell below, load and explore the data.\n",
    "\n",
    "*Notes:* \n",
    "\n",
    "* The dataset was downloaded from [Kaggle](https://www.kaggle.com/kazanova/sentiment140). We made a slight change on the original data so that each column has a label.\n",
    "\n",
    "* The dataset is huuuuge (1.6m tweets). When you develop your data analysis codes, you can sample a subset of the data (e.g. 20k records) so that you will save a lot of time when you test your codes."
   ]
  },
  {
   "cell_type": "code",
   "execution_count": 2,
   "metadata": {},
   "outputs": [],
   "source": [
    "# your code here\n",
    "import pandas as pd\n",
    "import random"
   ]
  },
  {
   "cell_type": "code",
   "execution_count": 3,
   "metadata": {},
   "outputs": [],
   "source": [
    "col_names = ['target', 'id', 'date', 'flag', 'user', 'text']"
   ]
  },
  {
   "cell_type": "code",
   "execution_count": 4,
   "metadata": {},
   "outputs": [],
   "source": [
    "df = pd.read_csv(\"../data/training.1600000.processed.noemoticon.csv\", encoding='latin1', header=None, names=col_names)"
   ]
  },
  {
   "cell_type": "code",
   "execution_count": 5,
   "metadata": {},
   "outputs": [],
   "source": [
    "df_sample = df.sample(2000)"
   ]
  },
  {
   "cell_type": "code",
   "execution_count": 6,
   "metadata": {},
   "outputs": [],
   "source": [
    "#clean_up\n",
    "import re\n",
    "def clean_up(s):\n",
    "    s_clean = re.sub(r\"https?:/[^\\s]*\", '', s)\n",
    "    s_clean = re.sub(r\"[\\W\\d]\", ' ', s_clean)\n",
    "    return s_clean.lower()"
   ]
  },
  {
   "cell_type": "code",
   "execution_count": 7,
   "metadata": {},
   "outputs": [],
   "source": [
    "#tokenize\n",
    "from nltk import word_tokenize\n",
    "def tokenize(s):\n",
    "    return word_tokenize(s)"
   ]
  },
  {
   "cell_type": "code",
   "execution_count": 8,
   "metadata": {},
   "outputs": [],
   "source": [
    "#stem_and_lemmatize\n",
    "from nltk.stem import WordNetLemmatizer\n",
    "def stem_and_lemmatize(l):\n",
    "    stemmer = SnowballStemmer(\"english\")\n",
    "    stemmed_list = [stemmer.stem(i) for i in l]\n",
    "    lemmatizer = WordNetLemmatizer()\n",
    "    stemmed_and_lemmatized_list = [lemmatizer.lemmatize(i) for i in stemmed_list]\n",
    "    return stemmed_and_lemmatized_list"
   ]
  },
  {
   "cell_type": "code",
   "execution_count": 9,
   "metadata": {},
   "outputs": [],
   "source": [
    "#stopwords\n",
    "from nltk.corpus import stopwords\n",
    "def remove_stopwords(l):\n",
    "    stop_words = set(stopwords.words('english'))\n",
    "    return [w for w in l if w not in stop_words]"
   ]
  },
  {
   "cell_type": "markdown",
   "metadata": {},
   "source": [
    "### Prepare Textual Data for Sentiment Analysis\n",
    "\n",
    "Now, apply the functions you have written in Challenge 1 to your whole data set. These functions include:\n",
    "\n",
    "* `clean_up()`\n",
    "\n",
    "* `tokenize()`\n",
    "\n",
    "* `stem_and_lemmatize()`\n",
    "\n",
    "* `remove_stopwords()`\n",
    "\n",
    "Create a new column called `text_processed` in the dataframe to contain the processed data. At the end, your `text_processed` column should contain lists of word tokens that are cleaned up. Your data should look like below:\n",
    "\n",
    "![Processed Data](data-cleaning-results.png)"
   ]
  },
  {
   "cell_type": "code",
   "execution_count": 10,
   "metadata": {},
   "outputs": [
    {
     "data": {
      "text/html": [
       "<div>\n",
       "<style scoped>\n",
       "    .dataframe tbody tr th:only-of-type {\n",
       "        vertical-align: middle;\n",
       "    }\n",
       "\n",
       "    .dataframe tbody tr th {\n",
       "        vertical-align: top;\n",
       "    }\n",
       "\n",
       "    .dataframe thead th {\n",
       "        text-align: right;\n",
       "    }\n",
       "</style>\n",
       "<table border=\"1\" class=\"dataframe\">\n",
       "  <thead>\n",
       "    <tr style=\"text-align: right;\">\n",
       "      <th></th>\n",
       "      <th>target</th>\n",
       "      <th>id</th>\n",
       "      <th>date</th>\n",
       "      <th>flag</th>\n",
       "      <th>user</th>\n",
       "      <th>text</th>\n",
       "      <th>text_processed</th>\n",
       "    </tr>\n",
       "  </thead>\n",
       "  <tbody>\n",
       "    <tr>\n",
       "      <th>1492016</th>\n",
       "      <td>4</td>\n",
       "      <td>2069211898</td>\n",
       "      <td>Sun Jun 07 15:28:01 PDT 2009</td>\n",
       "      <td>NO_QUERY</td>\n",
       "      <td>jblagg</td>\n",
       "      <td>taylor swift/keith urban boston, MA -- 80% sur...</td>\n",
       "      <td>[taylor, swift, keith, urban, boston, sure, im...</td>\n",
       "    </tr>\n",
       "    <tr>\n",
       "      <th>394024</th>\n",
       "      <td>0</td>\n",
       "      <td>2055537258</td>\n",
       "      <td>Sat Jun 06 09:30:00 PDT 2009</td>\n",
       "      <td>NO_QUERY</td>\n",
       "      <td>nikkluv</td>\n",
       "      <td>@Sammeroni hi bebehhhh &amp;lt;3 i miss talking to...</td>\n",
       "      <td>[sammeroni, hi, bebehhhh, lt, miss, talking, h...</td>\n",
       "    </tr>\n",
       "    <tr>\n",
       "      <th>1025936</th>\n",
       "      <td>4</td>\n",
       "      <td>1883620093</td>\n",
       "      <td>Fri May 22 08:50:32 PDT 2009</td>\n",
       "      <td>NO_QUERY</td>\n",
       "      <td>LdyDisney</td>\n",
       "      <td>@SDRadio Hee!  Thanks Chris for the #followfri...</td>\n",
       "      <td>[sdradio, hee, thanks, chris, followfriday, me...</td>\n",
       "    </tr>\n",
       "    <tr>\n",
       "      <th>239300</th>\n",
       "      <td>0</td>\n",
       "      <td>1980593098</td>\n",
       "      <td>Sun May 31 07:10:04 PDT 2009</td>\n",
       "      <td>NO_QUERY</td>\n",
       "      <td>anonesque</td>\n",
       "      <td>@failwatcher how do you not fail at assassinat...</td>\n",
       "      <td>[failwatcher, fail, assassinating, people, rin...</td>\n",
       "    </tr>\n",
       "    <tr>\n",
       "      <th>1195806</th>\n",
       "      <td>4</td>\n",
       "      <td>1984684191</td>\n",
       "      <td>Sun May 31 15:35:51 PDT 2009</td>\n",
       "      <td>NO_QUERY</td>\n",
       "      <td>Doodlebug18</td>\n",
       "      <td>@Heidi_range Just wanted to say that you and t...</td>\n",
       "      <td>[heidi_range, wanted, say, girls, amazing, sum...</td>\n",
       "    </tr>\n",
       "    <tr>\n",
       "      <th>...</th>\n",
       "      <td>...</td>\n",
       "      <td>...</td>\n",
       "      <td>...</td>\n",
       "      <td>...</td>\n",
       "      <td>...</td>\n",
       "      <td>...</td>\n",
       "      <td>...</td>\n",
       "    </tr>\n",
       "    <tr>\n",
       "      <th>165943</th>\n",
       "      <td>0</td>\n",
       "      <td>1961099229</td>\n",
       "      <td>Fri May 29 08:59:07 PDT 2009</td>\n",
       "      <td>NO_QUERY</td>\n",
       "      <td>tinkerdinkers</td>\n",
       "      <td>im tweeting... this is so hard... i dont get i...</td>\n",
       "      <td>[im, tweeting, hard, dont, get]</td>\n",
       "    </tr>\n",
       "    <tr>\n",
       "      <th>184602</th>\n",
       "      <td>0</td>\n",
       "      <td>1967748376</td>\n",
       "      <td>Fri May 29 20:08:31 PDT 2009</td>\n",
       "      <td>NO_QUERY</td>\n",
       "      <td>bnwhite89</td>\n",
       "      <td>is having fun all wrong</td>\n",
       "      <td>[fun, wrong]</td>\n",
       "    </tr>\n",
       "    <tr>\n",
       "      <th>71838</th>\n",
       "      <td>0</td>\n",
       "      <td>1694068858</td>\n",
       "      <td>Mon May 04 00:56:51 PDT 2009</td>\n",
       "      <td>NO_QUERY</td>\n",
       "      <td>chelseydee</td>\n",
       "      <td>Just realized that when I started freaking out...</td>\n",
       "      <td>[realized, started, freaking, thought, sheets,...</td>\n",
       "    </tr>\n",
       "    <tr>\n",
       "      <th>1117520</th>\n",
       "      <td>4</td>\n",
       "      <td>1973435545</td>\n",
       "      <td>Sat May 30 11:08:33 PDT 2009</td>\n",
       "      <td>NO_QUERY</td>\n",
       "      <td>bengillam</td>\n",
       "      <td>@daveizzle guess so. My worry was that the fil...</td>\n",
       "      <td>[daveizzle, guess, worry, files, would, stay, ...</td>\n",
       "    </tr>\n",
       "    <tr>\n",
       "      <th>187261</th>\n",
       "      <td>0</td>\n",
       "      <td>1968607251</td>\n",
       "      <td>Fri May 29 21:48:11 PDT 2009</td>\n",
       "      <td>NO_QUERY</td>\n",
       "      <td>krazzieboo</td>\n",
       "      <td>arguing next door and I just feel like crap......</td>\n",
       "      <td>[arguing, next, door, feel, like, crap, bae, a...</td>\n",
       "    </tr>\n",
       "  </tbody>\n",
       "</table>\n",
       "<p>2000 rows × 7 columns</p>\n",
       "</div>"
      ],
      "text/plain": [
       "         target          id                          date      flag  \\\n",
       "1492016       4  2069211898  Sun Jun 07 15:28:01 PDT 2009  NO_QUERY   \n",
       "394024        0  2055537258  Sat Jun 06 09:30:00 PDT 2009  NO_QUERY   \n",
       "1025936       4  1883620093  Fri May 22 08:50:32 PDT 2009  NO_QUERY   \n",
       "239300        0  1980593098  Sun May 31 07:10:04 PDT 2009  NO_QUERY   \n",
       "1195806       4  1984684191  Sun May 31 15:35:51 PDT 2009  NO_QUERY   \n",
       "...         ...         ...                           ...       ...   \n",
       "165943        0  1961099229  Fri May 29 08:59:07 PDT 2009  NO_QUERY   \n",
       "184602        0  1967748376  Fri May 29 20:08:31 PDT 2009  NO_QUERY   \n",
       "71838         0  1694068858  Mon May 04 00:56:51 PDT 2009  NO_QUERY   \n",
       "1117520       4  1973435545  Sat May 30 11:08:33 PDT 2009  NO_QUERY   \n",
       "187261        0  1968607251  Fri May 29 21:48:11 PDT 2009  NO_QUERY   \n",
       "\n",
       "                  user                                               text  \\\n",
       "1492016         jblagg  taylor swift/keith urban boston, MA -- 80% sur...   \n",
       "394024         nikkluv  @Sammeroni hi bebehhhh &lt;3 i miss talking to...   \n",
       "1025936      LdyDisney  @SDRadio Hee!  Thanks Chris for the #followfri...   \n",
       "239300       anonesque  @failwatcher how do you not fail at assassinat...   \n",
       "1195806    Doodlebug18  @Heidi_range Just wanted to say that you and t...   \n",
       "...                ...                                                ...   \n",
       "165943   tinkerdinkers  im tweeting... this is so hard... i dont get i...   \n",
       "184602       bnwhite89                           is having fun all wrong    \n",
       "71838       chelseydee  Just realized that when I started freaking out...   \n",
       "1117520      bengillam  @daveizzle guess so. My worry was that the fil...   \n",
       "187261      krazzieboo  arguing next door and I just feel like crap......   \n",
       "\n",
       "                                            text_processed  \n",
       "1492016  [taylor, swift, keith, urban, boston, sure, im...  \n",
       "394024   [sammeroni, hi, bebehhhh, lt, miss, talking, h...  \n",
       "1025936  [sdradio, hee, thanks, chris, followfriday, me...  \n",
       "239300   [failwatcher, fail, assassinating, people, rin...  \n",
       "1195806  [heidi_range, wanted, say, girls, amazing, sum...  \n",
       "...                                                    ...  \n",
       "165943                     [im, tweeting, hard, dont, get]  \n",
       "184602                                        [fun, wrong]  \n",
       "71838    [realized, started, freaking, thought, sheets,...  \n",
       "1117520  [daveizzle, guess, worry, files, would, stay, ...  \n",
       "187261   [arguing, next, door, feel, like, crap, bae, a...  \n",
       "\n",
       "[2000 rows x 7 columns]"
      ]
     },
     "execution_count": 10,
     "metadata": {},
     "output_type": "execute_result"
    }
   ],
   "source": [
    "# your code here\n",
    "df_sample['text_processed'] = df_sample['text'].apply(clean_up)\n",
    "df_sample['text_processed'] = df_sample['text_processed'].apply(tokenize, stem_and_lemmatize)\n",
    "df_sample['text_processed'] = df_sample['text_processed'].apply(remove_stopwords)\n",
    "df_sample"
   ]
  },
  {
   "cell_type": "markdown",
   "metadata": {},
   "source": [
    "### Creating Bag of Words\n",
    "\n",
    "The purpose of this step is to create a [bag of words](https://en.wikipedia.org/wiki/Bag-of-words_model) from the processed data. The bag of words contains all the unique words in your whole text body (a.k.a. *corpus*) with the number of occurrence of each word. It will allow you to understand which words are the most important features across the whole corpus.\n",
    "\n",
    "Also, you can imagine you will have a massive set of words. The less important words (i.e. those of very low number of occurrence) do not contribute much to the sentiment. Therefore, you only need to use the most important words to build your feature set in the next step. In our case, we will use the top 5,000 words with the highest frequency to build the features.\n",
    "\n",
    "In the cell below, combine all the words in `text_processed` and calculate the frequency distribution of all words. A convenient library to calculate the term frequency distribution is NLTK's `FreqDist` class ([documentation](https://www.nltk.org/api/nltk.html#module-nltk.probability)). Then select the top 5,000 words from the frequency distribution."
   ]
  },
  {
   "cell_type": "code",
   "execution_count": 11,
   "metadata": {},
   "outputs": [],
   "source": [
    "# your code here\n",
    "from nltk.probability import FreqDist"
   ]
  },
  {
   "cell_type": "code",
   "execution_count": 12,
   "metadata": {},
   "outputs": [],
   "source": [
    "all_text_processed = []\n",
    "for l in df_sample[\"text_processed\"]:\n",
    "    for w in l:\n",
    "        all_text_processed.append(w)\n",
    "    fdist = FreqDist\n",
    "    fdist = FreqDist(w for w in all_text_processed)"
   ]
  },
  {
   "cell_type": "code",
   "execution_count": 13,
   "metadata": {},
   "outputs": [
    {
     "name": "stdout",
     "output_type": "stream",
     "text": [
      "['good', 'day', 'like', 'get', 'quot', 'go', 'love', 'work', 'time', 'going', 'got', 'lol', 'today', 'really', 'u', 'one', 'know', 'night', 'thanks', 'back', 'see', 'home', 'im', 'na', 'amp', 'feel', 'want', 'miss', 'would', 'oh', 'still', 'hope', 'sleep', 'need', 'great', 'much', 'twitter', 'sorry', 'new', 'think', 'last', 'morning', 'well', 'weekend', 'sad', 'come', 'way', 'getting', 'tomorrow', 'wish', 'bad', 'haha', 'awesome', 'gon', 'though', 'tonight', 'bed', 'could', 'right', 'fun', 'first', 'already', 'watching', 'happy', 'x', 'hey', 'ever', 'guys', 'tired', 'best', 'hate', 'working', 'nice', 'phone', 'ready', 'missed', 'hours', 'week', 'even', 'ok', 'ã', 'little', 'watch', 'days', 'wan', 'say', 'cool', 'school', 'better', 'cant', 'soon', 'show', 'ì', 'long', 'yeah', 'pretty', 'next', 'bit', 'done', 'made', 'ñ', 'ð', 'people', 'us', 'never', 'another', 'make', 'wait', 'thought', 'life', 'wow', 'food', 'man', 'lt', 'friday', 'feeling', 'left', 'everyone', 'someone', 'things', 'birthday', 'take', 'help', 'around', 'went', 'hard', 'yes', 'please', 'tell', 'two', 'w', 'old', 'sun', 'find', 'amazing', 'must', 'thank', 'friend', 'baby', 'lost', 'com', 'excited', 'ta', 'look', 'iphone', 'weather', 'party', 'dont', 'hi', 'since', 'thing', 'many', 'tweet', 'almost', 'nothing', 'try', 'sucks', 'year', 'start', 'maybe', 'ur', 'found', 'follow', 'cute', 'either', 'yet', 'also', 'yay', 'song', 'may', 'enough', 'play', 'using', 'yesterday', 'train', 'hahaha', 'house', 'bored', 'weeks', 'use', 'full', 'till', 'seen', 'sounds', 'ha', 'pm', 'sure', 'keep', 'sick', 'awww', 'mine', 'gone', 'let', 'ya', 'give', 'anything', 'stupid', 'died', 'might', 'live', 'idea', 'buy', 'guess', 'followers', 'n', 'tho', 'true', 'xd', 'fine', 'wanted', 'summer', 'hurts', 'rain', 'woke', 'wants', 'least', 'nite', 'finally', 'late', 'waiting', 'playing', 'trying', 'ugh', 'god', 'leave', 'dinner', 'coming', 'move', 'makes', 'put', 'busy', 'always', 'head', 'ass', 'video', 'looking', 'www', 'said', 'making', 'finished', 'kids', 'dude', 'stuff', 'post', 'pain', 'tv', 'meet', 'listening', 'funny', 'poor', 'brother', 'dog', 'missing', 'didnt', 'xx', 'boo', 'quite', 'mean', 'cause', 'hair', 'monday', 'something', 'damn', 'girl', 'call', 'stuck', 'ë', 'early', 'glad', 'following', 'brain', 'hour', 'moving', 'saw', 'later', 'btw', 'away', 'movie', 'looks', 'cold', 'eating', 'b', 'read', 'cry', 'c', 'fuck', 'boys', 'heart', 'stop', 'office', 'thinking', 'actually', 'hear', 'wrong', 'definitely', 'crap', 'music', 'thats', 'check', 'sweet', 'end', 'add', 'crazy', 'class', 'movies', 'world', 'fail', 'win', 'able', 'leaving', 'eat', 'th', 'free', 'care', 'wishing', 'game', 'big', 'bring', 'da', 'stay', 'far', 'alone', 'told', 'believe', 'perfect', 'without', 'ppl', 'heard', 'soo', 'exam', 'family', 'london', 'taking', 'lot', 'friends', 'omg', 'picture', 'boy', 'water', 'face', 'dreams', 'years', 'mom', 'hit', 'stomach', 'started', 'raining', 'g', 'suck', 'absolutely', 'lunch', 'seriously', 'exams', 'k', 'worst', 'case', 'set', 'book', 'beautiful', 'part', 'parents', 'instead', 'sleeping', 'sitting', 'times', 'headache', 'anymore', 'job', 'loved', 'open', 'every', 'ahh', 'reading', 'asked', 'run', 'mind', 'lmao', 'brothers', 'awake', 'enjoy', 'shopping', 'lets', 'welcome', 'pay', 'vip', 'computer', 'coffee', 'tried', 'guy', 'luck', 'í', 'broke', 'nap', 'place', 'team', 'dm', 'talking', 'goin', 'lil', 'sunday', 'fan', 'half', 'goodnight', 'plus', 'seem', 'minutes', 'mileycyrus', 'sooo', 'via', 'goes', 'online', 'sleepy', 'til', 'anyone', 'youtube', 'mtv', 'awards', 'ipod', 'nope', 'talk', 'tough', 'understand', 'ice', 'cream', 'hungry', 'beat', 'episode', 'smile', 'xxx', 'mood', 'shame', 'final', 'interesting', 'behind', 'anyway', 'lovely', 'send', 'super', 'myspace', 'forgot', 'outside', 'ill', 'eyes', 'top', 'name', 'gt', 'business', 'star', 'cup', 'men', 'heading', 'says', 'band', 'headed', 'ask', 'p', 'course', 'young', 'moment', 'v', 'yuck', 'followfriday', 'girls', 'ball', 'facebook', 'yo', 'rocks', 'link', 'sometimes', 'wonder', 'breakfast', 'tea', 'songs', 'hospital', 'ache', 'fantastic', 'totally', 'knew', 'spending', 'whole', 'exhausted', 'doubt', 'wat', 'hoping', 'evening', 'college', 'laugh', 'car', 'felt', 'happened', 'drive', 'laying', 'attack', 'aww', 'project', 'watched', 'write', 'fall', 'status', 'bbq', 'lots', 'wearing', 'shower', 'r', 'worse', 'crying', 'pic', 'album', 'tweets', 'site', 'rove', 'account', 'spam', 'okay', 'tickets', 'wednesday', 'small', 'ive', 'text', 'shit', 'real', 'ddlovato', 'boom', 'mad', 'shop', 'hopefully', 'happen', 'dress', 'concert', 'number', 'wasnt', 'starting', 'agree', 'click', 'laundry', 'room', 'soooo', 'three', 'join', 'probably', 'trip', 'thx', 'except', 'white', 'ah', 'loves', 'unfortunately', 'june', 'dark', 'shows', 'couple', 'rest', 'supposed', 'favorite', 'fell', 'cable', 'internet', 'order', 'bummed', 'knows', 'ii', 'sore', 'hehe', 'dogs', 'word', 'slept', 'safe', 'seeing', 'english', 'pink', 'finding', 'remember', 'seems', 'horrible', 'st', 'min', 'brazil', 'upset', 'squarespace', 'heavy', 'ago', 'plans', 'dang', 'body', 'crew', 'email', 'list', 'goodbye', 'pack', 'lady', 'stopped', 'homework', 'hurt', 'math', 'surprise', 'uk', 'favourite', 'available', 'gb', 'barely', 'officially', 'reminds', 'ouch', 'credit', 'calls', 'customer', 'wrote', 'canada', 'yea', 'box', 'app', 'month', 'nd', 'story', 'meal', 'emails', 'appreciate', 'cleaning', 'la', 'taken', 'sims', 'meeting', 'points', 'wear', 'dad', 'space', 'took', 'training', 'kill', 'short', 'â', 'goodness', 'amy', 'sister', 'arrived', 'worked', 'england', 'fix', 'congrats', 'depressed', 'burnt', 'feels', 'lazy', 'mother', 'hand', 'complete', 'sexy', 'means', 'david', 'france', 'sweetie', 'kinda', 'tooth', 'films', 'shoes', 'alright', 'f', 'ate', 'hot', 'played', 'bear', 'boring', 'jonas', 'earlier', 'met', 'conan', 'random', 'fast', 'none', 'saturday', 'ima', 'bus', 'finish', 'club', 'wishes', 'suppose', 'cake', 'aw', 'hugs', 'forget', 'sent', 'rainy', 'mondays', 'posted', 'side', 'bought', 'news', 'hello', 'fb', 'cuz', 'enjoying', 'road', 'calling', 'fixed', 'weird', 'sis', 'kool', 'words', 'past', 'mitchelmusso', 'chicago', 'mac', 'worried', 'copy', 'forward', 'kevin', 'starts', 'close', 'son', 'article', 'problem', 'eaten', 'player', 'wont', 'note', 'h', 'healthy', 'mr', 'floor', 'season', 'trust', 'delete', 'ðµ', 'ð½ð', 'ð¾ñ', 'question', 'mention', 'dance', 'ring', 'closed', 'chance', 'monster', 'ear', 'e', 'bk', 'tommcfly', 'kind', 'ruined', 'dancing', 'voice', 'works', 'lose', 'door', 'wedding', 'taylorswift', 'called', 'alex', 'black', 'beer', 'ca', 'boyfriend', 'lame', 'sound', 'jack', 'un', 'nah', 'mate', 'hd', 'aus', 'used', 'button', 'caught', 'card', 'packing', 'writing', 'loving', 'review', 'forever', 'pick', 'ohh', 'quiet', 'clean', 'months', 'decided', 'asleep', 'guitar', 'paper', 'sunny', 'niece', 'reviewing', 'garden', 'jon', 'kate', 'divorced', 'pat', 'bb', 'change', 'married', 'heat', 'message', 'dropped', 'test', 'wonderful', 'ride', 'al', 'ideas', 'um', 'mum', 'makeup', 'boredom', 'pointless', 'ff', 'shall', 'worry', 'nails', 'version', 'z', 'woo', 'caffeine', 'reply', 'hell', 'august', 'nightmare', 'maths', 'starbucks', 'chill', 'whats', 'line', 'pull', 'bloody', 'blog', 'google', 'scared', 'record', 'dollar', 'secret', 'lucky', 'exactly', 'indeed', 'july', 'blackberry', 'design', 'iv', 'atlanta', 'beach', 'fucking', 'hang', 'excuse', 'issue', 'net', 'mag', 'serious', 'wine', 'congratulations', 'joe', 'comes', 'empty', 'lack', 'deleted', 'sign', 'rafa', 'sushi', 'somethin', 'theme', 'major', 'balls', 'fml', 'advice', 'everything', 'round', 'gig', 'town', 'pizza', 'tweeteradder', 'fire', 'shoot', 'eye', 'daddy', 'pics', 'hahaa', 'longer', 'aint', 'spectacular', 'green', 'easily', 'nights', 'git', 'bday', 'money', 'updates', 'bsb', 'photos', 'drink', 'loads', 'walk', 'ones', 'clearly', 'wtf', 'tummy', 'lord', 'tweeps', 'gettin', 'service', 'couldnt', 'together', 'gave', 'fuzzy', 'shift', 'lied', 'animal', 'ï', '½', 'else', 'strange', 'age', 'type', 'official', 'turns', 'kicking', 'ten', 'heeey', 'walked', 'special', 'hands', 'older', 'support', 'score', 'state', 'liked', 'freaking', 'moon', 'looked', 'charlie', 'luv', 'scary', 'xoxo', 'co', 'attend', 'turn', 'hold', 'tune', 'twilight', 'blue', 'dr', 'conference', 'company', 'transformers', 'ben', 'came', 'smart', 'original', 'trek', 'annoying', 'john', 'clothes', 'visit', 'slow', 'afternoon', 'date', 'teeth', 'cushion', 'currently', 'listen', 'bread', 'wake', 'awful', 'tweetdeck', 'sort', 'miley', 'rock', 'tonite', 'pr', 'etc', 'laptop', 'socks', 'drinking', 'mall', 'sales', 'upload', 'future', 'picnic', 'yep', 'answer', 'reason', 'ways', 'bc', 'graduation', 'realized', 'roll', 'camera', 'em', 'unless', 'ðµñ', 'ðºð', 'person', 'cheese', 'badly', 'hubby', 'drama', 'yum', 'dads', 'games', 'taylor', 'swift', 'chris', 'joy', 'energy', 'nooo', 'example', 'consolation', 'teste', 'nom', 'balance', 'hr', 'church', 'light', 'jane', 'gay', 'ughhh', 'arizona', 'lakers', 'parade', 'singing', 'attempting', 'entire', 'passengers', 'walking', 'dates', 'sight', 'peeps', 'standing', 'kid', 'apparently', 'promo', 'tasting', 'break', 'rub', 'quality', 'goood', 'php', 'woohoooo', 'cloudy', 'panic', 'tour', 'plz', 'tetris', 'spent', 'quake', 'ram', 'graphics', 'mums', 'point', 'north', 'avoid', 'area', 'benjamin', 'kellan', 'dream', 'debbiefletcher', 'vote', 'tom', 'ahhhh', 'different', 'jayde_nicole', 'argh', 'third', 'failure', 'session', 'cookie', 'laker', 'nin', 'river', 'ing', 'browser', 'related', 'modern', 'warm', 'gabba', 'breaking', 'apart', 'buses', 'dvd', 'korean', 'figured', 'visiting', 'rural', 'places', 'mostly', 'rough', 'horses', 'abby', 'poems', 'obviously', 'morn', 'ny', 'pero', 'rick', 'recession', 'agh', 'hanging', 'tim', 'presence', 'offer', 'waste', 'stewart', 'adorable', 'accidentally', 'pictures', 'skinny', 'jeans', 'usher', 'darling', 'el', 'research', 'bye', 'feed', 'tag', 'silly', 'xo', 'ontario', 'radio', 'current', 'tks', 'toast', 'worries', 'share', 'dam', 'passing', 'matter', 'dnt', 'alyssa_milano', 'transmission', 'justin', 'fridays', 'sundays', 'studio', 'djangodash', 'ordered', 'kelly__rowland', 'difference', 'rolls', 'grandma', 'depressing', 'pants', 'prepared', 'victoria', 'marathon', 'jay', 'hangover', 'palm', 'tylenol', 'processing', 'ahhh', 'babe', 'notice', 'tommy', 'lived', 'lay', 'planning', 'shoulder', 'prayers', 'ashamed', 'yer', 'holidays', 'group', 'blows', 'trent_reznor', 'create', 'moments', 'burned', 'drops', 'lions', 'gun', 'mouth', 'wicked', 'designed', 'css', 'ui', 'launch', 'revising', 'lounge', 'hush', 'possible', 'grieco', 'staying', 'ross', 'broken', 'charge', 'begin', 'outta', 'thursday', 'comic', 'washing', 'vids', 'donnie', 'preparing', 'spoken', 'certain', 'whilst', 'feet', 'sex', 'startin', 'finals', 'latest', 'curious', 'italian', 'enjoyed', 'hug', 'tub', 'lecture', 'competitive', 'frustrating', 'football', 'mothers', 'seattle', 'hw', 'fans', 'munich', 'grass', 'museum', 'checked', 'ages', 'search', 'auto', 'second', 'brien', 'backstreet', 'kick', 'sharing', 'likely', 'due', 'role', 'proud', 'dentist', 'drug', 'practice', 'sucked', 'worth', 'catch', 'ooh', 'andyclemmensen', 'logan', 'dryer', 'adam', 'shut', 'pool', 'needed', 'services', 'lolly', 'coz', 'veggie', 'fresh', 'theere', 'rubbish', 'cozy', 'content', 'yikes', 'wind', 'contest', 'channel', 'doctor', 'tons', 'fight', 'flickr', 'actual', 'source', 'woulda', 'six', 'hrs', 'sigh', 'gets', 'hopes', 'static', 'paris', 'grove', 'uh', 'wood', 'breeze', 'umm', 'threw', 'retainer', 'trash', 'hmmm', 'sum', 'hon', 'film', 'sweden', 'issues', 'crappy', 'drop', 'comments', 'plenty', 'possibly', 'soccer', 'match', 'chuckmemondays', 'mixing', 'wars', 'havin', 'woohoo', 'sept', 'reach', 'painful', 'angel', 'brrrrrring', 'laughing', 'burger', 'popsicle', 'ian', 'response', 'speechless', 'shops', 'charged', 'cricket', 'panda', 'nobody', 'lately', 'charm', 'anxiety', 'cure', 'allowed', 'sunshine', 'organization', 'wife', 'thanx', 'stage', 'rip', 'bummer', 'moms', 'senior', 'useless', 'failed', 'sir', 'sheep', 'dolls', 'sooner', 'thrown', 'florida', 'sunburn', 'grand', 'gin', 'flight', 'ê', 'jk', 'tracecyrus', 'tweeted', 'dies', 'bitch', 'minute', 'youre', 'georgia', 'massive', 'battery', 'park', 'pass', 'country', 'chair', 'tht', 'dear', 'force', 'vista', 'joined', 'tweeterfollow', 'afterward', 'survive', 'montana', 'wii', 'twenty', 'err', 'honey', 'nephew', 'gigs', 'miles', 'stoked', 'marriage', 'spend', 'quits', 'voted', 'yrs', 'positive', 'html', 'relate', 'kudos', 'wakes', 'fab', 'demi', 'normal', 'grown', 'woman', 'disappointed', 'fact', 'model', 'happens', 'smh', 'bff', 'genius', 'ton', 'hockey', 'forgotten', 'toes', 'ed', 'mins', 'brought', 'magic', 'camp', 'figure', 'bringing', 'decide', 'craving', 'choice', 'bah', 'fucked', 'dick', 'gene', 'hills', 'ps', 'jumping', 'checking', 'crush', 'comment', 'kidding', 'apple', 'grueling', 'yey', 'os', 'inspired', 'thinkin', 'messed', 'dye', 'anybody', 'yummy', 'french', 'tunes', 'shitty', 'harry', 'potter', 'download', 'moro', 'everybody', 'towels', 'packed', 'non', 'pray', 'switch', 'acts', 'hah', 'russell', 'pet', 'connection', 'weekends', 'learn', 'showing', 'sold', 'complain', 'shins', 'swim', 'gas', 'especially', 'kenny', 'cousin', 'learned', 'amazinggg', 'control', 'army', 'high', 'mau', 'cigarette', 'grrrr', 'jonasbrothers', 'hosting', 'running', 'alas', 'load', 'wisdom', 'videos', 'bonjour', 'itunes', 'mini', 'mars', 'forgive', 'mornin', 'born', 'discouraging', 'darn', 'chen', 'king', 'borrow', 'italy', 'soup', 'speak', 'scotland', 'rocky', 'america', 'tuba', 'masterchef', 'shooting', 'throat', 'heroes', 'volume', 'milo', 'ne', 'se', 'ho', 'highly', 'pleasure', 'jb', 'straight', 'daughter', 'gym', 'downloading', 'sorting', 'meds', 'babies', 'ironing', 'rather', 'virus', 'dying', 'wouldnt', 'rd', 'flash', 'odd', 'others', 'fever', 'glass', 'cut', 'teach', 'homie', 'bout', 'simple', 'vegas', 'merely', 'prob', 'alot', 'per', 'bar', 'shining', '½ng', 'ch', 'thï', 'yeahhh', 'yu', 'aplusk', 'south', 'seester', 'wooo', 'action', 'doesnt', 'hint', 'caption', 'location', 'saying', 'msn', 'price', 'ä', 'sit', 'chocolate', 'butt', 'bec', 'puppy', 'children', 'zing', 'partied', 'hat', 'city', 'ashleyltmsyf', 'eh', 'dannymcfly', 'gift', 'disturbing', 'families', 'whatever', 'feelin', 'concerned', 'acoustic', 'underneath', 'sat', 'shown', 'performance', 'ridiculous', 'brooch', 'hiii', 'background', 'fish', 'celebrity', 'rumors', 'jersey', 'red', 'pc', 'tues', 'shot', 'celebrate', 'suggestions', 'una', 'din', 'epic', 'animals', 'osx', 'admit', 'meat', 'grandparents', 'ms', 'rumour', 'ð²', 'ðºð¾', 'beastie', 'spock', 'tommorow', 'history', 'butter', 'xl', 'chilling', 'holiday', 'johan', 'refreshing', 'stress', 'fam', 'pman', 'scrub', 'sarahteaa', 'mile', 'swearing', 'topic', 'dell', 'ideapad', 'interview', 'april', 'erin', 'cheer', 'lonely', 'isnt', 'seat', 'store', 'engine', 'recommendations', 'ashley', 'corner', 'opening', 'nyc', 'fixing', 'desert', 'omgosh', 'bucks', 'dinosaur', 'lacka', 'pulled', 'inside', 'woooooo', 'whenever', 'donut', 'å', 'bowling', 'factions', 'eyebrows', 'q', 'bottle', 'workout', 'keith', 'urban', 'boston', 'sammeroni', 'bebehhhh', 'sdradio', 'hee', 'bustin', 'failwatcher', 'assassinating', 'failing', 'heidi_range', 'lonefemaletog', 'tab', 'sink', 'fionalaughton', 'flaming', 'lips', 'touring', 'magnet', 'thescript', 'indiequick', 'joejgirl', 'yooooo', 'niley', 'bestie', 'conoro', 'silicon', 'republic', 'piece', 'jessicanorin', 'handle', 'helpless', 'keris', 'frightened', 'tataencu', 'stiu', 'sunt', 'inclin', 'spre', 'courage', 'wimp', 'g_lifted', 'swear', 'speakerphone', 'twinings', 'teabags', 'windsurfing', 'gr', 'hire', 'falling', 'sea', 'sailing', 'deidicated', 'musician', 'leaisonfiyerrr', 'disappointing', 'tumblarity', 'workd', 'sickness', 'blaargher', 'vomit', 'burbs', 'thunder', 'colettea', 'marcia', 'harden', 'saresa', 'luvs', 'logging', 'loadtime', 'thecamdynsecret', 'sarcasm', 'catcameron', 'hturtle', 'pshh', 'festival', 'tiering', 'soar', 'familia', 'mayursha', 'airplane', 'coupons', 'sugarwilla', 'mailing', 'beachnz', 'wrk', 'ground', 'therealjordin', 'prayed', 'thespyglass', 'seven', 'downloaded', 'ritariot', 'justy', 'warren', 'nostril', 'justice', 'solo', 'overshadowed', 'doin', 'middle', 'southerndelite', 'zealand', 'september', 'productive', 'twin', 'dressed', 'gear', 'hennessey', 'andyvv', 'firehouse', 'sould', 'anyways', 'golfing', 'paying', 'immensely', 'studyyinggg', 'spanish', 'nnngh', 'headphone', 'glee', 'jennettemccurdy', 'continued', 'mu', 'username', 'jenettemccurdy', 'je', 'cover_of_vogue', 'beautyholic', 'retail', 'therapy', 'visits', 'plain', 'markhoppus', 'blink', 'fob', 'disco', 'bands', 'ausi', 'approve', 'teamwork', 'mariah', 'jeanniefeed', 'wasting', 'opinion', 'jfer', 'rome', 'luckily', 'buildings', 'karma', '_istone_', 'ghz', 'upgradable', 'jordanknight', 'complaining', 'ocr', 'tool', 'bgb', 'impossible', 'weigly', 'yunaaaa', 'library', 'dfferent', 'moonbeamstrlite', 'neat', 'clock', 'lutz', 'nerd', 'carpal', 'tunnel', 'error', 'solve', 'dos', 'attacked', 'payment', 'gateways', 'solving', 'continuous', 'zelenka', 'fic', 'altogether', 'zero', 'punc', 'duke', 'nukem', 'topped', 'million', 'msgs', 'jeorgina', 'georgina', 'michellekenobi', 'poorly', 'wasted', 'issie', 'heehee', 'climb', 'klutzie', 'coco', 'kody', 'hurry', 'nigga', 'cheesesticks', 'guarentee', 'bet', 'forum', 'meetup', 'combination', 'ajax', 'attended', 'pooh', 'screaming', 'fitfam', 'bluebox', 'betray', 'trent', 'ultrasound', 'tjconrad', 'flowing', 'maine', 'comedian', 'jim', 'san', 'jose', 'stoners', 'sharks', 'jforjessy', 'smoking', 'weeds', 'jeffhilimire', 'headaches', 'forms', 'unfortunate', 'existentialism', 'awaits', 'praying', 'shickmagnet', 'blowted', 'goldcoastgirl', 'jimbobjeff', 'caved', 'powermetal', 'headphones', 'japan', 'lully', 'hahahah', 'slowly', 'aecansk', 'enjoi', 'trains', 'booked', 'danls', 'l', 'mix', 'meteor', 'hana', 'yori', 'dango', 'alerts', 'riverscuomo', 'croquembouche', 'hull', 'gardens', 'absolutly', 'pdates', 'finality', 'melissaguei', 'turkey', 'sandwich', 'booh', 'americnxidiot', 'lachyg', 'roads', 'trafalgar', 'melmel', 'desayuno', 'en', 'cama', 'translated', 'ukranian', 'anthology', 'maxamphoto', 'originals', 'diff', 'types', 'manual', 'gosselin', 'theyre', 'inkyspice', 'ack', 'rosysayshi', 'jordanohlin', 'winston', 'salmon', 'meh', 'chuchovass', 'el_beatle', 'tuitea', 'asã', 'tiene', 'chiste', 'wadala', 'kurla', 'fx', 'frustrated', 'rachie', 'timmy', 'timmys', 'seldom', 'communicate', 'neighbors', 'exhaustion', 'xchange', 'highest', 'dannypcrook', 'bab', 'drank', 'four', 'alchemist', 'kristin', 'popcorn', 'loooooove', 'andy', 'samberg', 'denpasar', 'snuggled', 'saidi', 'considering', 'keyboard', 'sticky', 'spilt', 'morphine', 'peaple', 'elgs', 'tehyre', 'leggings', 'iamcandygirl', 'ahead', 'rustyrockets', 'disneyland', 'mountin', 'nikkistarshine', 'cherielovee', 'cuzzo', 'hoi', 'yellow', 'hacer', 'preview', 'thoughhhhhhh', 'tear', 'ninasky', 'politely', 'gericapurdy', 'snow', 'leopard', 'therefore', 'kevinprince', 'commands', 'sell', 'skewl', 'fake', 'babelicious', 'ergh', 'expire', 'pvparamite', 'onlione', 'lolz', 'sickly', 'ridden', 'poppet', 'twig', 'kendallbeckley', 'chichacho', 'gladiator', 'everyday', 'alexalltimelow', 'suggest', 'hamilton', 'beingmyself', 'aim', 'mee', 'spiewak', 'result', 'station', 'viewing', 'ashylbowz', 'blakesamic', 'evernote', 'fave', 'envelopes', 'scarlet', 'stoney', 'batman', 'smoke', 'strawberries', 'dgaf_bitch', 'jim_herd', 'grandfather', 'veterans', 'relatives', 'kanye', 'comin', 'jayne', 'donâ', 'besos', 'º', 'sagarun', 'sneak', 'peek', 'chriskoon', 'kaiacali', 'saturdays', 'yayyyyy', 'seek', 'thirty', 'gateway', 'nginx', 'whatup', 'gc', 'coach', 'jberryhill', 'paulbaranda', 'productgirl', 'delivered', 'shipping', 'notification', 'however', 'thee', 'armada', 'baking', 'cinamon', 'alzheimer', 'rofltallman', 'jsyk', 'weeteck', 'romibird', 'shrimp', 'slushy', 'thirsty', 'impressed', 'mokewon', 'includes', 'amuse', 'bouche', 'pomme', 'frites', 'palatte', 'cleanser', 'dessert', 'marco_cali', 'unexpected', 'happenings', 'braidin', 'sissys', 'am_i_wry', 'regretful', 'schedule', 'offing', 'vancouver', 'anneliesch', 'dating', 'charlieate', 'folowers', 'pre', 'robotpickuplines', 'poker', 'vanilla', 'coke', 'nicholasbraun', 'skipped', 'exciting', 'cassi', 'catoblepas', 'joosetyne', 'porfavor', 'pinkberry', 'delievers', 'doses', 'single', 'dragonball', 'moz', 'kryst_m_lue', 'uni', 'golf', 'yesteday', 'gold', 'ruleizah', 'suggestion', 'hilfiger', 'crosbyloggins', 'heh', 'tuna', 'etherjammer', 'stellery', 'aye', 'fits', 'brig', 'personality', 'thunderstorms', 'caramelapples', 'muhaha', 'goodshoeday', 'earliest', 'darshany', 'boycaught', 'killed', 'evergreen', 'tree', 'growing', 'forest', 'habereet', 'jaw', 'severe', 'tmj', 'basically', 'causes', 'neck', 'debilitating', 'nikkidecoy', 'xolp', 'poo', 'mock', 'yaaaay', 'ptbd', 'pja', 'paula', 'row', 'coffeee', 'burntcoffee', 'pumped', 'recalled', 'cookies', 'superman', 'dork', 'ping', 'livin', 'aubrey', 'rocksoundjen', 'living', 'ft', 'eve', 'shucks', 'galvogalvo', 'lpbarrows', 'lergik', 'indelibly', 'wagnerofficial', 'noes', 'shane', 'williams', 'royal', 'xv', 'weddings', 'trigger', 'camille', 'keira', 'fully', 'mnrmg', 'shamim', 'offices', 'mimo', 'ellie', 'fears', 'thunderstorm', 'complex', 'novel', 'systems', 'scratch', 'xhtml', 'cm', 'chileeee', 'tasks', 'notes', 'surprised', 'classes', 'sleeeeeeeepy', 'motivated', 'brainbangley', 'pow', 'gorgeously', 'sylven', 'hundred', 'shaun', 'incredibly', 'proachcrackhead', 'gulpanag', 'sarahreneee', 'stroke', 'emma_elizabeth', 'youknowsit', 'cardinal_fang', 'alexanderrybak', 'stockholm', 'travelling', 'farkough', 'chibirose', 'tiffany_paige', 'engagement', 'naughty', 'dcjoeycrack', 'coreygivin', 'ladywrites', 'bhoward', 'morganb', 'morgan', 'awesomemeness', 'coldplay', 'iamsurfe', 'dumb', 'jstef', 'accept', 'putting', 'alexcleanthous', 'smthng', 'similar', 'ambo_c', 'gavin', 'egd', 'colonscopy', 'strips', 'main', 'communication', 'jmatthewflyzik', 'successful', 'captain', 'procrastinator', 'finallyy', 'hollyhuddleston', 'absolute', 'heaven', 'dikeough', 'orlando', 'gorgeous', 'los', 'angeles', 'salone', 'myinnervixen', 'asking', 'glowbuggy', 'browsing', 'archuleta', 'steal', 'chrissysmile', 'retrorewind', 'southern', 'firest', 'demo', 'jamhess', 'unfair', 'foot', 'gum', 'oww', 'lynda', 'vans', 'pregnancy', 'bigger', 'iamnotsteve', 'chronicles', 'whoiscraig', 'recognition', 'plays', 'performed', 'swell', 'appt', 'jason', 'program', 'jadeycakess', 'jade', 'ykesha', 'waz', 'wid', 'folks', 'bookstore', 'stressed', 'mid', 'admin', 'panel', 'clan', 'inspecting', 'lake', 'wounds', 'cuts', 'inch', 'scar', 'pappup', 'invite', 'website', 'teresa_michele', 'fundraiser', 'orbie', 'hun', 'goal', 'triatholon', 'ankita_gaba', 'initiative', 'funkyfannys', 'cutebutpsycho', 'elevator', 'wardere', 'chelsealjensen', 'oatmeal', 'scream', 'machineeeee', 'artguido', 'moring', 'owls', 'greyareauk', 'confused', 'fruits', 'labor', 'balanced', 'winners', 'dose', 'juicyjenbunnick', 'gayyyyyyyyyy', 'yah', 'lmfao', 'popppinnn', 'thabrinablaithe', 'molly', 'crazedwriter', 'christian', 'oweew', 'hereeeeeeee', 'blairs', 'cindyloveofbook', 'checklist', 'hikarii', 'voiceofchill', 'chrisreg', 'dissapointed', 'fecat', 'brougt', 'sarahbellafina', 'mcfly', 'respond', 'topbunk', 'texting', 'loud', 'catalli', 'betting', 'connections', 'wherever', 'federer', 'frenchopen', 'gud', 'enuf', 'tmofee', 'tutyfruitty', 'yessss', 'dreaming', 'experience', 'amaaaaaaaaaazing', 'untamedclare', 'danielgrosvenor', 'ceripadley', 'trader', 'mr_marty', 'yungceo', 'amara_m', 'huggles', 'gently', 'shanselman', 'feature', 'rollover', 'image', 'suspect', 'keepin', 'theiancrawford', 'raul_ramos', 'cheryldoherty', 'orioles', 'phillies', 'mepaqehe', 'carradine', 'engaging', 'erotic', 'asphyxiation', 'somehow', 'explanation', 'suicide', 'slighlty', 'sucky', 'keys', 'usb', 'stick', 'orange', 'reunion', 'reuniting', 'announcer', 'shoutouts', 'chrisandcaleb', 'redguitarfreak', 'emmysue', 'follower', 'ziggie', 'kelowa', 'camcol', 'prozzak', 'models', 'instant', 'classic', 'chass', 'grades', 'eviltwinswife', 'roy', 'tevineleven', 'xddd', 'chipped', 'bass', 'liquidweb', 'crave', 'sal', 'ihate', 'tests', 'texxttt', 'tommarro', 'scott_pooler', 'client', 'congress', 'bunch', 'ols', 'hallway', 'leahlacsamana', 'oddly', 'jazz_machine', 'emoisforluvers', 'arieldotcom', 'trademe', 'ebay', 'deals', 'foreverkid', 'irl', 'piaguanio', 'pia', 'samovarious', 'jar', 'shaundiviney', 'chatroom', 'devo', 'malato', 'heatherrenae', 'listened', 'sweetone', 'camped', 'lobby', 'quick', 'tidy', 'spider', 'diagrams', 'the_parish', 'brokencyde', 'weds', 'regular', 'beautician', 'cassandra', 'mariaruizx', 'naomi', 'seeee', 'yayyyy', 'lambert', 'glasto', 'footie', 'tournie', 'charity', 'mutha', 'knowmeloveme', 'reblip', 'sets', 'cityguyyoga', 'dizzy', 'blingy', 'rlly', 'sumrest', 'stll', 'cnt', 'sumthn', 'mk', 'sophistifunk', 'uncork', 'harbor', 'jacket', 'degree', 'statesboro', 'causing', 'anakusz', 'rodney', 'atkins', 'leobuettiker', 'motor', 'fiend', 'strikes', 'ciaranmoore', 'mss', 'drivers', 'license', 'monroejnicole', 'tj', 'roasted', 'vegan', 'romaine', 'salad', 'mushroom', 'artichoke', 'ris', 'aoow', 'uhshalala', 'iwonder', 'iheartcuddles', 'counts', 'theevolutionofdance', 'deelishhhh', 'lucilles', 'drew', 'ea', 'prom', 'colorblindfish', 'alancia', 'belly', 'report', 'mph', 'winds', 'degrees', 'blizzards', 'coronas', 'lies', 'aything', 'finna', 'cutty', 'buddy', 'carlton', 'rr', 'diversity', 'julian', 'gargoyle', 'andrew', 'davidson', 'proof', 'edits', 'croydon', 'morra', 'dota', 'motivation', 'discharge', 'xerinluvsjbx', 'grandmas', 'dreading', 'startign', 'theleek', 'toolazytocare', 'books', 'dnw', 'ebooks', 'cs', 'mentioned', 'tumblr', 'import', 'rss', 'feeds', 'tags', 'lukevenediger', 'solr', 'stackoverflow', 'amazon', 'releasing', 'mods', 'gpl', 'code', 'kindle', 'pens', 'afl', 'fixture', 'annuhmango', 'kept', 'waking', 'ubmyanchor', 'tanks', 'double', 'pgb', 'badluckkp', 'flags', 'imalexevans', 'hating', 'posting', 'shaquanrulez', 'mydesine', 'chantiparnell', 'prefer', 'tbh', 'timothygreenejr', 'duane', 'reade', 'kiki_anderson', 'ocado', 'chaseonthefly', 'drummer', 'smiling', 'passed', 'peterfacinelli', 'cue', 'daydreaming', 'tysonjayritter', 'bella_in_forks', 'manettanne', 'trippin', 'oak', 'individual', 'informed', 'event', 'elsewhere', 'sunburst', 'carpet', 'mahogany', 'lloydaustins', 'hmm', 'canal', 'lizzysassafrass', 'liz', 'anniebeeknits', 'proposition', 'aion_xaen', 'key', 'dayziebaby', 'riankaaa', 'akuu', 'kan', 'fair', 'contented', 'surprises', 'icing', 'auntie', 'galarraga', 'runs', 'offense', 'lethargic', 'compared', 'wubbzy', 'dvr', 'rotae', 'gaelicwolf', 'innocent', 'twistedmacsista', 'prov', 'mojito_lily', 'laenij', 'heaps', 'nancyisgold', 'hahahaha', 'laughed', 'grumpy', 'ariaajaeger', 'anemia', 'bites', 'pattinsonladies', 'fs', 'ty', 'drunkennyt', 'lemonade', 'snapped', 'bajillion', 'trohman', 'huh', 'fabulous', 'chocolately', 'horlicks', 'diabetic', 'joocemusic', 'cafetaria', 'triered', 'fireworks', 'nonamejane', 'jonathandmello', 'spoiled', 'brats', 'mommies', 'babaea', 'manage', 'fishies', 'tan', 'pale', 'hurrah', 'delay', 'reschedule', 'fc', 'massenheim', 'leannenufc', 'sparkly_devil', 'horrid', 'nasty', 'rounds', 'originaltyler', 'doody', 'cioa', 'jaybe', 'cobb', 'chuckeu', 'rum', 'punch', 'kitchen', 'clone', 'bsides', 'dat', 'moved', 'paragon', 'durring', 'aching', 'akasmiley', 'pattycakes', 'decline', 'aerobics', 'remembered', 'wrestler', 'brittneymm', 'jessiicarrr', 'fashioned', 'barber', 'traveling', 'thinx', 'whad', 'brrrrring', 'whittle', 'hormonal', 'hangin', 'charger', 'restaurant', 'kirby', 'rachel', 'yummo', 'symman', 'manvfood', 'grahamlord', 'brick', 'mortar', 'hackintosh', 'chain', 'nose', 'pliers', 'phun', 'spanishexpert', 'gracias', 'shitti', 'gfs', 'peinlich', 'mcm', 'expo', 'fallout', 'vault', 'costume', 'noati', 'influence', 'guilty', 'heater', 'busted', 'canberra', 'unrepairable', 'hoo', 'discovered', 'watches', 'eurovision', 'szaslow', 'jroyster', 'sknightschultz', 'twittering', 'lizlemoncologne', 'term', 'toritoes', 'witnessed', 'petrilude', 'nvm', 'lily', 'allen', 'ellenavarro', 'drained', 'kingnickrusso', 'monsoon', 'kerala', 'frequent', 'blackouts', 'seanmurphymusic', 'jenafinfin', 'baha', 'meee', 'twoo', 'stand', 'yeahh', 'bringin', 'bahah', 'pong', 'mgoldstars', 'building', 'baystreeter', 'built', 'urbansmiler', 'blushing', 'gem', 'signing', 'catholic', 'religious', 'priest', 'contacted', 'trinitarians', 'thrashingale', 'adorablyapples', 'responsibilities', 'parent', 'approx', 'human', 'katanaabbott', 'intuitively', 'helps', 'science', 'prove', 'loulouk', 'wired', 'mens', 'aimed', 'managers', 'pirate', 'esty', 'pretend', 'sickening', 'teddy', 'comfort', 'im_julia', 'known', 'creme', 'de', 'mer', 'products', 'emmanichorrain', 'ys', 'er', 'council', 'facism', 'correctly', 'spelled', 'often', 'sucker', 'yeg', 'iz', 'heartlezz', 'summa', 'chexmex', 'hunny', 'friendz', 'sevy', 'remote', 'someones', 'vocabulary', 'liiiiiiittle', 'dictionary', 'posts', 'interviews', 'keithdnoles', 'travel', 'registered', 'tikcets', 'younger', 'hydro', 'aunt', 'bethtana', 'sci', 'fi', 'junkie', 'gamer', 'pianist', 'tonic', 'drinker', 'addict', 'icaughtfire', 'planned', 'smooth', 'ë²', 'ë¹', 'ê³', '½ì', 'ë³', '¼ê³', 'ludens_', 'countersuicide', 'cairon', 'stalkers', 'regis', 'kelly', 'funhouse', 'benefit', 'alicia', 'asses', 'irritated', 'sydney', 'finishing', 'assessments', 'adelaide', 'pbs', 'nature', 'dakota', 'seizure', 'phoebe', 'seizures', 'dcmabnikki', 'boudaries', 'dj', 'cof', 'farret', 'buler', 'tits', 'faeryqueen', 'batcave', 'dannigyrl', 'stepkids', 'taylame', 'grandpa', 'afterall', 'receptionist', 'caitlincarrigan', 'tastic', 'knot', 'lisalynn', 'shibarireiss', 'oooooo', 'giving', 'brake', 'testing', 'towards', 'port', 'melbourne', 'eminem', 'goen', 'rite', 'workin', 'nataliamusic', 'vï', '½ï', '½l', 'plezier', 'iran', 'foreign', 'embassies', 'safer', 'hospitals', 'iranelection', 'iranriggedelect', 'amen', 'ajdaddy', 'lyysssa', 'vanda_long', 'probibly', 'cssvt', 'leaks', 'blackberrypro', 'beta', 'bold', 'ooliviamiller', 'geolykduh_', 'ccassiee', 'hobo', 'pimpmysales', 'nokia', 'realtormarney', 'ai', 'du', 'pont', 'grt', 'separation', 'simplybad', 'ninja', 'howww', 'grshane', 'episodes', 'hannah', 'bully', 'missions', 'units', 'forty', 'lurkers', 'turkishoney', 'gary', 'wie', 'geehts', 'humping', 'braving', 'dudley', 'wolverrriiiinnee', 'presents', 'wrapping', 'bhaddad', 'mygrandmastillsaysit', 'earthquake', 'raphaelvillar', 'obrigada', 'pelo', 'bird', 'bathannahh', 'nate', 'gutted', 'crowd', 'wantttts', 'contract', 'renewable', 'nicktml', 'pouring', 'venue', 'giraffette', 'eddie', 'pout', 'theeastwestkids', 'crumbling', 'province', 'candy', 'flyfisherwiz', 'guessing', 'muchcaffeine', 'smiles_cheese', 'uu', 'shuld', 'saucystaci', 'stereo', 'daveracingkites', 'katalystkaryn', 'kyncaid', 'casts', 'javascript', 'wierd', 'missshuganah', 'ablebodied', 'abbylatif', 'lar', 'blast', 'az', 'pillow', 'obsessiouvly', 'interruption', 'wit', 'effigy', 'seller', 'nyycarl', 'acknowledgement', 'dmitriy_usher', 'speachlesssssss', 'paranoid', 'outfit', 'tireed', 'fuckin', 'dhughesy', 'mabster', 'cthagod', 'atleast', 'apologize', 'callin', 'hurtful', 'juliemccoy', 'chopped', 'liver', 'pd', 'tennant', 'con', 'ffffff', 'naturallysavvy', 'boneyeric', 'phil', 'katjairina', 'globalgrind', 'concern', 'toddbrink', 'bouncin', 'herb', 'social', 'dissipating', 'talladega', 'aaaahhhhhhh', 'davidpagett', 'forte', 'draining', 'happiness', 'swiss', 'drifting', 'she_eats', 'concludes', 'factoid', 'tattoo', 'gauges', 'misshelen', 'thru', 'bgt', 'ariefbabyy', 'bryanricard', 'welker', 'hes', 'toughie', 'intresting', 'pixar', 'seanchoe', 'gtg', 'ricky', 'amyluvssage', 'bleigh', 'awe', 'homeworks', 'pimple', 'awaaaaaaayy', 'rumor', 'nhl', 'coyotes', 'cash', 'fear', 'numbered', 'valley', 'chrisandcal', 'alarm', 'mikeormond', 'anticipation', 'aecamadi', 'sorcha', 'pernicious', 'toenail', 'fungus', 'a_shle_y', 'garbage', 'hardy', 'agneshhh', 'lie', 'icanlearntolove', 'sarah_jean', 'humid', 'beth', 'melody', 'bjorn', 'katharinadawn', 'carriebeth', 'ace', 'unlimited', 'cohen', 'refusing', 'refunds', 'followurheart', 'hells', 'missy', 'haunt', 'addicted', 'jess', 'airport', 'modem', 'hobbs', 'strong', 'jamba', 'juice', '_misshannah', 'revisions', 'formal', 'dresser', 'loveandlyrics', 'babygirl', 'cook', 'measure', 'size', 'genehiltonphoto', 'terrikap', 'homeboy', 'holding', 'jonthanjay', 'glasses', 'eight', 'lasik', 'wore', 'confirmed', 'expect', 'mistakes', 'certainly', 'brief', '½what', 'mark', 'territory', 'naxos', 'puredestiny', 'bom', 'jst', 'poloudala', 'ko', 'bo', 'awardse', 'pa', 'zmeri', 'gledam', 'zdej', 'ponaulajo', 'od', 'lan', 'krneki', 'devmcgill', 'assignments', 'davejmatthews', 'audiology', 'audiologist', 'ears', 'catching', 'naruto', 'opposite', 'schedules', 'wolfnoma', 'hanks', 'volcano', 'minuts', 'dinnerrrr', 'azzore', 'vet', 'specializing', 'miniature', 'inappropriate', 'setting', 'riannonfan', 'renttoownhomes', 'kalispell', 'crystal', 'magicalness', 'release', 'software', 'raincoaster', 'kananaskis', 'voya', 'fancytimes', 'michelle', 'aug', 'abbey', 'ilikeautumn', 'specifically', 'character', 'sketch', 'dannygokey', 'upgrade', 'cavang', 'comfortably', 'numb', 'redoing', 'rehersal', 'uhoh', 'shandreen', 'hwy', 'revisited', 'frosted', 'flakes', 'complicated', 'sergios', 'luckytenseven', 'careers', 'involve', 'fame', 'press', 'rxtheride', 'j', 'blip', 'tgi', 'trainspotting', 'drown', 'train_wreck', 'handball', 'carling', 'cardboard', 'log', 'yahoo', 'messenger', 'imax', 'reward', 'emailunlimited', 'inspiredworlds', 'marked', 'marking', 'rampage', 'deaths', 'langster', 'although', 'docs', 'digitalzack', 'amandamello', 'slumber', 'zeichen', 'rescue', 'dedham', 'doggies', 'nikil', 'ottawa', 'lindsayslifee', 'linds', 'cuteee', 'thetull', 'dgood', 'alsome', 'joke', 'misunderstanding', 'native', 'speakers', 'ap', 'stats', 'erica', 'rgoodchild', 'expectinggg', 'thinggg', 'sophie', 'henderson', 'superrr', 'maisieribbons', 'bella', 'temperature', 'effect', 'dudx', 'peekapoochecker', 'racing', 'commentary', 'checkers', 'winner', 'myth', 'nada', 'ebook', 'giveaway', 'bookwyrm', 'addy', 'patrikianpolk', 'pretending', 'michaeljohnston', 'retweet', 'characters', 'johnnnaa', 'adriramirez', 'doo', 'u_u', 'adri', 'loaned', 'dexter', 'guardian', 'justroxonmute', 'rox', 'spell', 'thts', 'gawd', 'caahh_gs', 'chapters', 'aflyy', 'orizu', 'rebeccao', 'carterronson', 'pookie', 'bookie', 'eventually', 'chlodubs', 'progressives', 'cons', 'troll', 'aubreys_friend', 'dlp', 'nervs', 'buzz', 'twitts', 'rio', 'miracle', 'cologne', 'lesson', 'learnedon', 'cost', 'easy', 'nickboldt', 'lala', 'kiteboardertje', 'mosslover', 'greeting', 'act', 'jmspool', 'reruns', 'crack', 'gbevin', 'scenarios', 'acquisition', 'completely', 'imagine', 'berair', 'ke', 'waahhhhhh', 'chesney', 'comeeeeee', 'cracked', 'quizzes', 'legend', 'jennwong', 'china', 'foolish', 'pls', 'cooking', 'skills', 'cooks', 'mommy', 'm_scott_aitken', 'urs_truely', 'settle', 'cheerwine', 'ggrrrllll', 'kateblogging', 'cbus', 'smith', 'wollenskys', 'hawaiian', 'hercules', 'iduno', 'laurabrowning', 'brentspiner', 'gen', 'gaining', 'shape', 'yr', 'aaron', 'holo', 'deck', 'foggy', 'gcshuttlebus', 'ianlatham', 'minature', 'bedroom', 'erinhere', 'five', 'gim', 'bend', 'awwwww', 'dicesix', 'woken', 'mary', 'crank', 'tiket', 'tak', 'bertuan', 'ada', 'yg', 'syarat', 'tergabung', 'di', 'flies', 'sierradee', 'mija', 'lighter', 'nine', 'goooo', 'subscribers', 'roywchang', 'cars', 'epicpetwars', 'confirmation', 'finger', 'slips', 'pughug', 'crazyness', 'pawpawty', 'pals', 'quit', 'cutting', 'changed', 'relationship', 'pismo', 'sand', 'powder', 'adjusting', 'woganmay', 'kristoferkills', 'sober', 'driver', 'victory', 'hypnobirth', 'chloexoxoxox', 'congratulated', 'bt', 'vittoriarusso', 'uncanny', 'camelot', 'whoever', 'purple', 'velour', 'covers', 'piercedbrat', 'returned', 'favor', 'dan', 'deacon', 'summerier', 'johnnydurham', 'sarking', 'cakes', 'colorful', 'mel_pennington', 'mellyboo', 'celebrities', 'stalk', 'inspected', 'push', 'chathre', 'referring', 'gisselle', 'feelings', 'thepistol', 'kings', 'leon', 'playlist', 'shooorooot', 'yoko', 'magbasa', 'tpr', 'projects', 'itchy', 'ahah', 'suuuucksyo', 'macfeather', 'idiot', 'reject', 'pump', 'mixed', 'emotions', 'yehaw', 'stephenfry', 'undeniablequeen', 'awhile', 'cheriepie', 'buyer', 'amazingphoebe', 'bags', 'bars', 'afford', 'claps', 'jeremycowart', 'refer', 'tomwehrlephotography', 'caesars', 'aloha', 'hotrock', 'katemcintire', 'reasonable', 'triple', 'venti', 'nonfat', 'caramel', 'macchiato', 'race', 'drumaddict', 'twice', 'georiga', 'selling', 'etsy', 'creative', 'jenova', 'flow', 'tiflosourtis', 'kong', 'handlers', 'obligated', 'ristia_aaa', 'emstreets', 'sunned', 'twas', 'nariguds', 'amiemccarron', 'spain', 'anna', 'gothewallabies', 'rugby', 'leinster', 'holyschmoke', 'cocky', 'genes', 'carried', 'donniewahlberg', 'holmdel', 'xcited', 'irvine', 'havebeen', 'dent', 'caseydamnmorgan', 'azbutterfly', 'glamluxelife', 'mistake', 'reidstott', 'keeps', 'exercise', 'aussieboby', 'jeanette_kc', 'purchases', 'chick', 'iphones', 'todays', 'bf', 'uncle', 'felling', 'mrskutcher', 'yelyahwilliams', 'denikaos', 'mmmm', 'juhhstin', 'picky', 'shinin', 'julia', 'twinz', 'blurrrry', 'fugitivies', 'loveeee', 'macapps', 'folders', 'quicksilver', 'touch', 'turning', 'officialkalinka', 'nevidel', 'honem', 'mrknu', 'urä', 'itä', 'bude', 'nä', 'senzaä', 'nã', 'dã', 'ky', 'madame', 'damiankernahan', 'feedback', 'appreciated', 'twiter_me_this', 'bohyne', 'sista', 'sbg', 'byrannya', 'aku', 'martabak', 'asin', 'ngidam', 'kmrn', 'lusa', 'nih', 'alison', 'sig', 'saur', 'bushmaster', 'bless', 'nra', 'storm', 'hectic', 'hints', 'degipt', 'tools', 'sing', 'hannzzz', 'nikkigrotenhuis', 'shaketramp', 'iiiiiiii', 'shaped', 'sunglasses', 'pinkberrygirl', 'mightve', 'uhuiii', 'bleuken', 'surprisee', 'epic_war_mt', 'takin', 'cupcakes', 'obnoxiously', 'browsn', 'cruises', 'public', 'timeline', 'documents', 'marketing', 'uuuuggghhhh', 'mswilliamsmusic', 'barbie', 'dougiemcfly', 'fathers', 'ironic', 'christina', 'aguilera', 'clex_monkie', 'clothing', 'mama', 'pigeon', 'feeding', 'blob', 'althought', 'hayfever', 'unable', 'ja', 'singalong', 'wonderwall', 'oasis', 'bro', 'jealous', 'talent', 'bevysmith', 'thxs', 'joining', 'ilove', 'movement', 'ish', 'amanda', 'acceptable', 'dominos', 'profile', 'ollld', 'newsz', 'editeditedittt', 'rasberry', 'costco', 'intents', 'xx__bambam__xx', 'otherwise', '__parasite__', 'noticed', 'oli', 'hideyourarms', 'owner', 'lavonne', 'toastedfrenchie', 'sobe', 'girlll', 'prides', 'tat', 'jessica', 'rabbit', 'starving', 'chocs', 'smooothierider', 'leno', 'headlines', 'neilhimself', 'graveyard', 'kindness', 'info', 'flowers', 'lesbiancafe', 'mrchgrl', 'tooo', 'seblefebvre', 'dave', 'barnes', 'bty', 'roseweasley', 'mojolabs', 'receive', 'mysticspoonful', 'cocobananas', 'singles', 'thisisdavina', 'collects', 'retrieving', 'salvadorrivera', 'debateable', 'jogging', 'stuartheritage', 'count', 'steelydaniel', 'decsion', 'descion', 'ali_moongarden', 'flexible', 'darker', 'blonde', 'blazinbear', 'honorsociety', 'michael', 'handsome', 'justinavioli', 'forming', 'habits', 'dragonflyedream', 'stories', 'goos', 'mel_mg', 'chunk', 'etoilequirit', 'choose', 'energetic', 'canadian', 'onlie', 'evilbeet', 'arnt', 'hef', 'bitchy', 'twins', 'hardly', 'preoccupied', 'hatz', 'wordcampuk', 'geeks', 'loopymups', 'xu', 'chrisbeach', 'buddies', 'chic', 'ajlovesmusic', 'si', 'estara', 'bien', 'escrito', 'bueno', 'huskies', 'cancer', '_crc_', 'suit', 'became', 'drunkedly', 'buying', 'singstar', 'tdm', 'driving', 'roberthay', 'rob', 'dragon', 'rockin', 'scales', 'twitpic', 'pix', 'lastnight', 'chippendale', 'molliesmummy', 'condescending', 'overbearing', 'poole', 'ilovelayncenix', 'trade', 'nelson', 'cruz', 'captainwalker', 'kimmehobizzle', 'addicting', 'onlydanno', 'iggyspacecadet', 'malkovich', 'rickypl', 'blart', 'cop', 'justinerbi', 'xxxxx', 'radha_', 'horny', 'kitties', 'unlucky', 'aheram', 'fairytale', 'poland', 'turned', 'weapons_wired', 'yesem', 'the_real_shaq', 'leafsfaninbigd', 'litter', 'argghhh', 'wiper', 'finaly', 'death', 'series', 'goaskalicia', 'aweesome', 'agency', 'wing', 'kerstinfehn', 'husband', 'carlosakellyesq', 'eminent', 'domain', 'published', 'fla', 'journal', 'kimmimcfly', 'pub', 'psu', 'delt', 'oldmanknott', 'barby', 'ruddy', 'sarahprovidence', 'mintran', 'ti', 'khï', 'tham', 'gia', 'gi', 'cu', 'cassiesporaa', 'yummmy', 'decision', 'anticipated', 'tricster', 'plannong', 'curry', 'masala', 'hae', 'socila', 'crohns', 'robotrock', 'spiderman', 'mystyleaus', 'kirsty', 'spree', 'rodeo', 'whatev', 'gots', 'kerry', 'pkh', 'bally', 'doyle', 'downers', 'nfinchgurl', 'direct', 'address', 'ajd', 'jump', 'tpleeza', 'actors', 'directed', 'encourage', 'theartistt', 'trish', 'argue', 'wether', 'teachers', 'education', 'petshopboys', 'originalswoosh', 'amypaffrath', 'listenin', 'trakgirl', 'aight', 'dayssss', 'bandwith', 'usage', 'deployment', 'brwneyedbratbry', 'insurance', 'sidenote', 'lip', 'shannan', 'harpers', 'island', 'intense', 'quatrainman', 'yup', 'speaker', 'meaning', 'jaredleto', 'commitment', 'faith', 'attendance', 'rayblanco', 'present', 'tori_da', 'cruel', 'brave', 'beep', 'meu', 'twitterfox', 'morreu', 'nattapants', 'realise', 'traine', 'winnings', 'hill', 'lads', 'junk', 'cos', 'americanwomannn', 'midnight', 'ikai', 'creating', 'crud', 'effort', 'unlike', 'rails', 'grails', 'ceasar', 'milan', 'whisperer', 'doggy', 'gimmicks', 'bearable', 'kimasabi', 'gs', 'ladies', 'sisters', 'strength', 'kyle', 'michaelbattalio', 'answered', 'sans', 'actress', 'glitch', 'occured', 'cisco', 'network', 'centres', 'amsterdam', 'innovative', 'chatting', 'rosie', 'ily', 'brittanybeauty', 'jazzled', 'skein', 'yarn', 'jasper', 'cast', 'suareasy', 'ri', 'mn', 'sticks', 'goto', 'mmvas', 'fee', 'logomyway', 'phoenix', 'web', 'griffin', 'pastababy', 'intervention', 'clip', 'kuä', 'tis', 'sä', 'cis', 'ivinä', 'gregvandagriff', 'postal', 'granny', 'bonz', 'forums', 'kier_o', 'athens', 'ga', 'theatre', 'michaelaranda', 'setsuru', 'temptation', 'style', 'withdrew', 'wimbledon', 'injury', 'punquin', 'fitting', 'raspberry', 'bullets', 'cents', 'asian', 'daniel', 'pozole', 'gramma', 'delta_goodrem', 'delta', 'celia', 'heelloo', 'rescued', 'flushed', 'toilet', 'waves', 'grad', 'parties', 'crackberry', 'noodles', 'nutritious', 'missxmarisa', 'tsar', 'tony', 'legendary', 'neil', 'patrick', 'harris', 'thetonyawards', 'royallyccurtis', 'kno', 'dineshopwrite', 'angela', 'aki', 'seasons', 'hardcore', 'jacks', 'sao', 'paulo', 'approach', 'suits', 'isa', 'michelson', 'music_ismylife', 'belated', 'sukaina', 'thnx', 'carolinee', 'panamaaa', 'drees', 'eddieizzard', 'izzard', 'rely', 'ribbet', 'bergen', 'mira', 'strangers', 'sadsadsad', 'pop', 'nooooooooo', 'heartbreaking', 'deteriorated', 'willadam', 'roller', 'skating', 'waitresses', 'davidwynne', 'tweetieelovee', 'nakerd', 'denkc', 'reals', 'nadal', 'held', 'nbc', 'murray', 'wah', 'jee', 'loitering', 'yankees', 'essi', 'chucktvdotnet', 'yess', 'savechuck', 'chuck', 'painkillers', 'milanq', 'ambassador', 'ess', 'dining', 'mouthwatering', 'ggrrr', 'foods', 'wilw', 'wil', 'wheaton', 'daysoff', 'iranian', 'withoutayard', 'clients', 'kenzonian', 'gmail', 'storage', 'ceiling', 'forced', 'tigger', 'cdelint', 'criminal', 'camielcruz', 'mattc', 'psych', 'thnk', 'tew', 'darrenhayes', 'stuffy', 'skittles', 'basketball', 'doneeeee', 'robert', 'pattinson', 'saddened', 'tragedy', 'bellisland', 'hometown', 'thoughts', 'overdid', 'brknglassstudio', 'colbert', 'cterry', 'skyejaden', 'afraid', 'haas', 'komm', 'jetzt', 'starlinex', 'eps', 'megami', 'updating', 'annaantell', 'hansonmusic', 'heya', 'abusing', 'jennagold', 'awwww', 'ashleighinsane', 'waterfights', 'surrender', 'table', 'nkotb', 'sweetness', '_dash', 'judging', 'bale', 'loosing', 'pixie', 'merry', 'karnowsky', 'gallery', 'lynch', 'autolux', 'actor', 'roth', 'woodlandalyssa', 'peta', 'cats', 'shelter', 'complex_mom', 'anxious', 'lawrence', 'alicia_vintage', 'bryanarmada', 'sandrafathi', 'followed', 'beginner', 'pearlsandwhirls', 'melts', 'handbag', 'blackr', 'xavier', 'backstage', 'pinkrebunny', 'spyring', 'azairi', 'adinaaa', 'page', 'oth', 'bee', 'eff', 'efffff', 'sleepng', 'adamrhodes', 'patch', 'kmk', 'wheres', 'songzyuuup', 'misss', 'himm', 'alreadyyyy', 'servicing', 'bump', 'jonathon', 'trocadero', 'rambo', 'redbull', 'lukemarsden', 'ooo', 'wigan', 'laa', 'ibiza', 'barrr', 'sonialexandra', 'pratts', 'mrs', 'pratt', 'heyy', 'kpfaulkner', 'reminder', 'jasoncalacanis', 'vipvirtualsols', 'twitterworld', 'ww', 'avatar', 'merihn', 'vegemite', 'gangster', 'suddenly', 'pho', '_alii', 'nahhh', 'reckon', 'awesomeeee', 'chat', 'tomorrowwwww', 'ilyy', 'ough', 'wet', 'tertia', 'alievans', 'gregverdino', 'havent', 'blazer', 'shirt', 'stickam', 'citeh', 'chloe', 'saskiatielens', 'metric', 'ticket', 'paychecks', 'beth_warren', 'kronistheill', 'trespassers', 'survivors', 'texas', 'shanedawson', 'birthdays', 'shirley', 'temples', 'ng', 'color', 'wheel', 'settings', 'birdonawire', 'hmmmm', 'matters', 'tears', 'nvdey', 'gosh', 'bother', 'dizzyyet', 'prepare', 'restaraunt', 'smithant', 'addatwork', 'gasit', 'nici', 'generala', 'poate', 'doar', 'facultate', 'zzzzzz', 'holla', 'morro', 'westradio', 'fm', 'thebomb', 'coraline', 'mocking', 'fuckyeahdavidlynch', 'davidï', '½you', 'nearly', 'zacharylang', 'digg', 'urls', 'paste', 'marrilan', 'peter', 'pan', 'cat', 'hidden', 'print', 'ohio', 'commmmeeeee', 'promoters', 'hippidy', 'hop', 'diplo', 'dope', 'remixes', 'grow', 'loooooooong', 'quartetship', 'nick', 'happyyyyyy', 'usa', 'googlygoogly', 'rose', 'fat', 'simriel', 'goatzilla', 'sudoku', 'mishelleohhh', 'wash', 'smaller', 'lightly', 'soiled', 'regularly', 'danamorphic', 'expensive', 'oooh', 'jakepress', 'bathproject', 'wild', 'signal', 'jiggy', 'tomfelton', 'jumpsaround', 'preferrably', 'toronto', 'vero', 'skitch', 'rush', 'plug', 'equipment', 'testes', 'unstable', 'broadband', 'bask', 'managed', 'vincent', 'microsoft', 'bing', 'pjlittlefoot', 'pills', 'dezjwarnae', 'wholefoods', 'save', 'cupcakeloser', 'thankies', 'theengteacher', 'ancient', 'manxiefi', 'huntermoore', 'roseville', 'hangg', 'geisha', 'rosalielynch', 'neighbor', 'fill', 'dannywood', 'danny', 'enjoyable', 'knocking', 'lust', 'respect', 'lulzlix', 'fault', 'volta', 'bak', 'dangerous', 'trends', 'difficult', 'sorceror', 'named', 'goo', 'steel', 'fisted', 'war', 'apes', 'elabourate', 'luncheons', 'arabic', 'fuknglamorous', 'lysssxo', 'loveee', 'pepperlive', 'homeslice', 'aholmes_nj', 'downthemall', 'meeeeeeeee', 'jeffgard', 'jeff', 'omggg', 'drawback', 'moscato', 'detroit', 'lib', 'juliedibens', 'lonesome', 'if__fi', 'ð½ð¾', 'ð¼ðºð', 'ð²ð', 'ð²ñ', 'ð½ðµ', 'ð¼ðµñ', 'ð¾ðºð', 'ð¾', 'ð¾ð', 'recs', 'albums', 'roomies', 'savannah', 'tyk', 'jamiedukes', 'jamie', 'teens', 'watchin', 'insert', 'infotainment', 'marvinjulian', 'jessi', 'kita', 'pake', 'mobil', 'apa', 'nanti', 'emmagmgdiva', 'chickie', 'booooo', 'outrage_designs', 'chorale', 'forgets', 'lolol', 'idivehard', 'doll', 'timothythompson', 'mistreated', 'ranelcaldeo', 'lg', 'repairs', 'interests', 'fortune', 'archofroses', 'braescotland', 'byeeee', 'lassie', 'grace_coppinger', 'arby', 'edward', 'hunting', 'visitor', 'ye', 'lion', 'den', 'cried', 'kimmyawesome', 'melancholy', 'haruhi', 'dis', 'marianawerneck', 'que', 'houve', 'charpower', 'economic', 'pauldale', 'loribourne', 'lookadoo', 'rehearsal', 'johnhumber', 'bloom', 'theee', 'coughing', 'areeee', 'meeee', 'goons', 'coots', 'fire_princess', 'travcope', 'nachos', 'johnlloydtaylor', 'teacher', 'rolling', 'lessons', 'thackers', 'knowing', 'contact', 'hendrix', 'greentm', 'removed', 'tanning', 'greeksarah', 'behave', 'perhaps', 'mandyyjirouxx', 'nordstorms', 'cafe', 'romas', 'tomato', 'basil', 'mandy', 'vegies', 'garlic', 'die', 'boxing', 'beaggressive', 'ð³ñ', 'jayde', 'dimples_', 'dana', 'calm', 'marcimichelle', 'kiefer', 'silverstone', 'peace', 'sunburnt', 'morrow', 'rfredley', 'theropolitans', 'pitch', 'reilly', 'ladybug', 'watcha', 'arvo', 'wadcorp', 'champagne', 'deandra', 'mccloryryan', 'darrell_schulte', 'judge', 'clearing', 'mmofoz', 'nighty', 'brothel', 'jimrhiz', 'scholar', 'homeland', 'security', 'ontology', 'created', 'hated', 'prescription', 'buffysquirrel', 'franchise', 'alxx', 'rz', 'limit', 'iamsoannoyed', 'relieve', 'ave', 'stourport', 'lonelyyy', 'davidarchie', 'therealdubzpa', 'heavily', 'bobmabena', 'dammit', 'pace', 'zachroloff', 'woodbridge', 'dumped', 'pinckneyville', 'juliiemacc', 'etherealbeautym', 'nuthin', 'cellobroad', 'androidcentral', 'browse', 'mobile', 'augmented', 'reality', 'http', 'layar', 'eu', 'ioctocat', 'codes', 'sin_of_eden', 'volvoshine', 'sunburned', 'pops', 'imma', 'peoples', 'milfs', 'ronald', 'feild', 'robs', 'fantasy', 'factory', 'mzluck', 'nowwwww', 'wheelock', 'mocha', 'frapp', 'naozzzz', 'andrewkungphoto', 'nopers', 'dreadful', 'abuse', 'upsetting', 'martynabaker', 'oo', 'atm', 'surbiton', 'nearer', 'kshattap', 'noooo', 'nga', 'swfanworks', 'twhril', 'setback', 'crunchyk', 'teasing', 'beyond', 'heartbroken', 'iamcouto', 'stealthgigi', 'rally', 'youngsy', 'kjw', 'northern', 'michigan', 'humidity', 'unspeakableaxe', 'alj', 'sawry', 'sam', 'homesick', 'jessicaveronica', 'cyberela', 'cyby', 'cramp', 'cycle', 'involved', 'conversations', 'wld', 'btr', 'doorway', 'abso', 'lasevillana', 'usual', 'spranesh', 'np', 'replied', 'functionality', 'development', 'lenovo', 'expectations', 'amyyvee', 'tequilakitty', 'darls', 'archer', 'milton', 'keynes', 'denvercheetoh', 'thinks', 'laurenconrad', 'reuters', 'square', 'jimgris', 'authentic', 'japanese', 'mohdrafie', 'linux', 'lamp', 'cousins', 'cookout', 'xgracestackx', 'yeh', 'andrewkirchner', 'ceo', 'sirxia', 'associated', 'financial', 'profit', 'cosmetic', 'corp', 'board', 'djdnice', 'reyrey', 'soul', 'sux', 'salsb', 'received', 'sanctity', 'conversation', 'tainted', 'misternoodle', 'twentymajor', 'allright', 'sync', 'updated', 'appointments', 'calendar', 'hunter', 'reckoning', 'radseed', 'watcin', 'degrassi', 'shyt', 'pride', 'joankw', 'jacquelynann', 'earwigs', 'eeveelove', 'desperately', 'peanut', 'priced', 'fingers', 'advance', 'thisgoeshere', 'annoyed', 'windy', 'col', 'bedtime', 'opportunities', 'jus', 'fa', 'twittin', 'shanks', 'bayouqueen', 'misses_gola', 'euros', 'longzheng', 'standard', 'standards', 'mess', 'groceries', 'spring', 'argued', 'separate', 'dr_h', 'scrapers', 'growth', 'negative', 'controls', 'diedrecook', 'luckee', 'lying', 'unhappy', 'rwhats', 'yawning', 'augusten', 'counterfitt', 'drums', 'quest', 'continues', 'pynk_hi_lyter', 'twitterness', 'application', 'jet', 'airways', 'exodus', 'ek', 'dus', 'redowns', 'hearing', 'continuing', 'kbs', 'olliemusic', 'oliver', 'active', 'expert', 'diagnose', 'procrastinatin', 'adulthood', 'seemed', 'baggage', 'rhettroberts', 'msbossybeauty', 'ohhh', 'hungryyy', 'sg', 'maid', 'chicken', 'rice', 'hor', 'claire_cordon', 'hollywood', 'darwin', 'gambatte', 'competition', 'razzberrigrl', 'summers', 'winter', 'prolly', 'inadequate', 'goooooood', 'sophielouisej', 'irregular', 'singapore', 'hurtsss', 'doctors', 'booo', 'byronglick', 'byron', 'desk', 'duty', 'dnc', 'obamabots', 'ktjlarsen', 'oneredflower', 'jonathanrknight', 'jordan', 'twit', 'snoring', 'kelspencer', 'hats', 'pinky', 'police', 'sirens', 'nearby', 'rebekahharrison', 'resting', 'rested', 'select', 'boot', 'disk', 'startup', 'bobbiebrissetypo', 'nikkipilkington', 'sackpackies', 'ooookaaayy', 'babysitting', 'realised', 'physics', 'cancelled', 'lorraine', 'irish', 'accent', 'wannabe', 'sooooo', 'hyperventalated', 'glorianatheband', 'amazin', 'johnnyjet', 'mikado', 'anniversary', 'deana', 'lloyd', 'lilchickie', 'compliment', 'nursejennifer', 'extravagant', 'conserving', 'plan', 'lined', 'mssres', 'goalie', 'strutting', 'naked', 'jitterjorge', 'voodoo', 'pamslove', 'trimmed', 'iced', 'lookes', 'kirstiealley', 'comedy', 'ewan', 'defintions', 'eugh', 'rourke', 'local', 'piginthepoke', 'lauraechilds', 'yokie', 'urge', 'wheneveryouwant', 'the_real_jeff_o', '_bianca__', 'ran', 'microwavable', 'burritos', 'idk', 'grilling', 'iamglennie', 'freespiritdiva', 'chilly', 'gloomy', 'outdoor', 'vbs', 'evenings', 'fsteven', 'manila', 'irod', 'kamikazeisgreen', 'jan', 'nervous', 'paomiami', 'rarely', 'earthquakes', 'east', 'priscillaf', 'bawled', 'cheth', 'stumbled', 'sugatolo', 'svu', 'brand', 'stirfry', 'foodtech', 'ahha', 'victoria_', 'mikehole', 'minidave', 'aha', 'ryan', 'reynolds', 'hangovers']\n"
     ]
    }
   ],
   "source": [
    "#top 5K words\n",
    "top_5k = [i[0] for i in fdist.most_common(5000)]\n",
    "print(top_5k)"
   ]
  },
  {
   "cell_type": "markdown",
   "metadata": {},
   "source": [
    "### Building Features\n",
    "\n",
    "Now let's build the features. Using the top 5,000 words, create a 2-dimensional matrix to record whether each of those words is contained in each document (tweet). Then you also have an output column to indicate whether the sentiment in each tweet is positive. For example, assuming your bag of words has 5 items (`['one', 'two', 'three', 'four', 'five']`) out of 4 documents (`['A', 'B', 'C', 'D']`), your feature set is essentially:\n",
    "\n",
    "| Doc | one | two | three | four | five | is_positive |\n",
    "|---|---|---|---|---|---|---|\n",
    "| A | True | False | False | True | False | True |\n",
    "| B | False | False | False | True | True | False |\n",
    "| C | False | True | False | False | False | True |\n",
    "| D | True | False | False | False | True | False|\n",
    "\n",
    "However, because the `nltk.NaiveBayesClassifier.train` class we will use in the next step does not work with Pandas dataframe, the structure of your feature set should be converted to the Python list looking like below:\n",
    "\n",
    "```python\n",
    "[\n",
    "\t({\n",
    "\t\t'one': True,\n",
    "\t\t'two': False,\n",
    "\t\t'three': False,\n",
    "\t\t'four': True,\n",
    "\t\t'five': False\n",
    "\t}, True),\n",
    "\t({\n",
    "\t\t'one': False,\n",
    "\t\t'two': False,\n",
    "\t\t'three': False,\n",
    "\t\t'four': True,\n",
    "\t\t'five': True\n",
    "\t}, False),\n",
    "\t({\n",
    "\t\t'one': False,\n",
    "\t\t'two': True,\n",
    "\t\t'three': False,\n",
    "\t\t'four': False,\n",
    "\t\t'five': False\n",
    "\t}, True),\n",
    "\t({\n",
    "\t\t'one': True,\n",
    "\t\t'two': False,\n",
    "\t\t'three': False,\n",
    "\t\t'four': False,\n",
    "\t\t'five': True\n",
    "\t}, False)\n",
    "]\n",
    "```\n",
    "\n",
    "To help you in this step, watch the [following video](https://www.youtube.com/watch?v=-vVskDsHcVc) to learn how to build the feature set with Python and NLTK. The source code in this video can be found [here](https://pythonprogramming.net/words-as-features-nltk-tutorial/)."
   ]
  },
  {
   "cell_type": "markdown",
   "metadata": {},
   "source": [
    "[![Building Features](building-features.jpg)](https://www.youtube.com/watch?v=-vVskDsHcVc)"
   ]
  },
  {
   "cell_type": "code",
   "execution_count": 14,
   "metadata": {},
   "outputs": [],
   "source": [
    "# your code here\n",
    "word_features = [x[0] for x in top_5k]\n",
    "for i in word_features:\n",
    "    df_sample[i]=[i in x for x in df_sample['text_processed']]"
   ]
  },
  {
   "cell_type": "code",
   "execution_count": 15,
   "metadata": {},
   "outputs": [],
   "source": [
    "df_sample.drop(['flag','id','date','text'], axis=1, inplace=True)"
   ]
  },
  {
   "cell_type": "code",
   "execution_count": 16,
   "metadata": {},
   "outputs": [],
   "source": [
    "#target: the polarity of the tweet (0 = negative, 2 = neutral, 4 = positive)"
   ]
  },
  {
   "cell_type": "code",
   "execution_count": 17,
   "metadata": {},
   "outputs": [
    {
     "data": {
      "text/plain": [
       "False    1017\n",
       "True      983\n",
       "Name: positive, dtype: int64"
      ]
     },
     "execution_count": 17,
     "metadata": {},
     "output_type": "execute_result"
    }
   ],
   "source": [
    "df_sample[\"positive\"] = df_sample[\"target\"].apply(lambda t: False if t == 0 else True)\n",
    "df_sample[\"positive\"].value_counts()"
   ]
  },
  {
   "cell_type": "code",
   "execution_count": 18,
   "metadata": {},
   "outputs": [],
   "source": [
    "#dict\n",
    "cols = top_5k\n",
    "words = []\n",
    "for index,row in df_sample.iterrows():\n",
    "    words_dic = {}\n",
    "    for i in cols:\n",
    "        words_dic[i] = i in row[\"text_processed\"]\n",
    "        words.append((words_dic, row[\"positive\"]))"
   ]
  },
  {
   "cell_type": "markdown",
   "metadata": {},
   "source": [
    "### Building and Traininng Naive Bayes Model\n",
    "\n",
    "In this step you will split your feature set into a training and a test set. Then you will create a Bayes classifier instance using `nltk.NaiveBayesClassifier.train` ([example](https://www.nltk.org/book/ch06.html)) to train with the training dataset.\n",
    "\n",
    "After training the model, call `classifier.show_most_informative_features()` to inspect the most important features. The output will look like:\n",
    "\n",
    "```\n",
    "Most Informative Features\n",
    "\t    snow = True            False : True   =     34.3 : 1.0\n",
    "\t  easter = True            False : True   =     26.2 : 1.0\n",
    "\t headach = True            False : True   =     20.9 : 1.0\n",
    "\t    argh = True            False : True   =     17.6 : 1.0\n",
    "\tunfortun = True            False : True   =     16.9 : 1.0\n",
    "\t    jona = True             True : False  =     16.2 : 1.0\n",
    "\t     ach = True            False : True   =     14.9 : 1.0\n",
    "\t     sad = True            False : True   =     13.0 : 1.0\n",
    "\t  parent = True            False : True   =     12.9 : 1.0\n",
    "\t  spring = True            False : True   =     12.7 : 1.0\n",
    "```\n",
    "\n",
    "The [following video](https://www.youtube.com/watch?v=rISOsUaTrO4) will help you complete this step. The source code in this video can be found [here](https://pythonprogramming.net/naive-bayes-classifier-nltk-tutorial/)."
   ]
  },
  {
   "cell_type": "markdown",
   "metadata": {},
   "source": [
    "[![Building and Training NB](nb-model-building.jpg)](https://www.youtube.com/watch?v=rISOsUaTrO4)"
   ]
  },
  {
   "cell_type": "code",
   "execution_count": 19,
   "metadata": {},
   "outputs": [],
   "source": [
    "# your code here\n",
    "import nltk"
   ]
  },
  {
   "cell_type": "code",
   "execution_count": 30,
   "metadata": {},
   "outputs": [
    {
     "name": "stdout",
     "output_type": "stream",
     "text": [
      "10000000\n"
     ]
    }
   ],
   "source": [
    "print(len(words))"
   ]
  },
  {
   "cell_type": "code",
   "execution_count": 31,
   "metadata": {},
   "outputs": [],
   "source": [
    "#train, test\n",
    "train = words[:800]\n",
    "test = words[800:]"
   ]
  },
  {
   "cell_type": "code",
   "execution_count": 32,
   "metadata": {},
   "outputs": [],
   "source": [
    "#train model\n",
    "classifier = nltk.NaiveBayesClassifier.train(train)"
   ]
  },
  {
   "cell_type": "code",
   "execution_count": 33,
   "metadata": {},
   "outputs": [
    {
     "name": "stdout",
     "output_type": "stream",
     "text": [
      "Most Informative Features\n"
     ]
    }
   ],
   "source": [
    "# Most informative features\n",
    "classifier.show_most_informative_features()"
   ]
  },
  {
   "cell_type": "markdown",
   "metadata": {},
   "source": [
    "### Testing Naive Bayes Model\n",
    "\n",
    "Now we'll test our classifier with the test dataset. This is done by calling `nltk.classify.accuracy(classifier, test)`.\n",
    "\n",
    "As mentioned in one of the tutorial videos, a Naive Bayes model is considered OK if your accuracy score is over 0.6. If your accuracy score is over 0.7, you've done a great job!"
   ]
  },
  {
   "cell_type": "code",
   "execution_count": 36,
   "metadata": {},
   "outputs": [],
   "source": [
    "# your code here\n",
    "#nltk.classify.accuracy(classifier, test)"
   ]
  },
  {
   "cell_type": "code",
   "execution_count": 38,
   "metadata": {},
   "outputs": [
    {
     "data": {
      "text/plain": [
       "\"I'm having problems trying the get the accuracy number due to my jupyter's memory space\""
      ]
     },
     "execution_count": 38,
     "metadata": {},
     "output_type": "execute_result"
    }
   ],
   "source": [
    "\"\"\"I'm having problems trying the get the accuracy number due to my jupyter's memory space\"\"\""
   ]
  },
  {
   "cell_type": "markdown",
   "metadata": {},
   "source": [
    "## Bonus Question 1: Improve Model Performance\n",
    "\n",
    "If you are still not exhausted so far and want to dig deeper, try to improve your classifier performance. There are many aspects you can dig into, for example:\n",
    "\n",
    "* Improve stemming and lemmatization. Inspect your bag of words and the most important features. Are there any words you should furuther remove from analysis? You can append these words to further remove to the stop words list.\n",
    "\n",
    "* Remember we only used the top 5,000 features to build model? Try using different numbers of top features. The bottom line is to use as few features as you can without compromising your model performance. The fewer features you select into your model, the faster your model is trained. Then you can use a larger sample size to improve your model accuracy score."
   ]
  },
  {
   "cell_type": "code",
   "execution_count": null,
   "metadata": {},
   "outputs": [],
   "source": [
    "# your code here"
   ]
  },
  {
   "cell_type": "markdown",
   "metadata": {},
   "source": [
    "## Bonus Question 2: Machine Learning Pipeline\n",
    "\n",
    "In a new Jupyter Notebook, combine all your codes into a function (or a class). Your new function will execute the complete machine learning pipeline job by receiving the dataset location and output the classifier. This will allow you to use your function to predict the sentiment of any tweet in real time. "
   ]
  },
  {
   "cell_type": "code",
   "execution_count": null,
   "metadata": {},
   "outputs": [],
   "source": [
    "# your code here"
   ]
  },
  {
   "cell_type": "markdown",
   "metadata": {},
   "source": [
    "## Bonus Question 3: Apache Spark\n",
    "\n",
    "If you have completed the Apache Spark advanced topic lab, what you can do is to migrate your pipeline from local to a Databricks Notebook. Share your notebook with your instructor and classmates to show off your achievements!"
   ]
  },
  {
   "cell_type": "code",
   "execution_count": null,
   "metadata": {},
   "outputs": [],
   "source": [
    "# your code here"
   ]
  }
 ],
 "metadata": {
  "kernelspec": {
   "display_name": "Python [conda env:ironhack_env]",
   "language": "python",
   "name": "conda-env-ironhack_env-py"
  },
  "language_info": {
   "codemirror_mode": {
    "name": "ipython",
    "version": 3
   },
   "file_extension": ".py",
   "mimetype": "text/x-python",
   "name": "python",
   "nbconvert_exporter": "python",
   "pygments_lexer": "ipython3",
   "version": "3.8.5"
  }
 },
 "nbformat": 4,
 "nbformat_minor": 4
}
