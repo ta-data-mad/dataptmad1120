{
 "cells": [
  {
   "cell_type": "markdown",
   "metadata": {},
   "source": [
    "# Challenge 2: Sentiment Analysis\n",
    "\n",
    "In this challenge we will learn sentiment analysis and practice performing sentiment analysis on Twitter tweets. \n",
    "\n",
    "## Introduction\n",
    "\n",
    "Sentiment analysis is to *systematically identify, extract, quantify, and study affective states and subjective information* based on texts ([reference](https://en.wikipedia.org/wiki/Sentiment_analysis)). In simple words, it's to understand whether a person is happy or unhappy in producing the piece of text. Why we (or rather, companies) care about sentiment in texts? It's because by understanding the sentiments in texts, we will be able to know if our customers are happy or unhappy about our products and services. If they are unhappy, the subsequent action is to figure out what have caused the unhappiness and make improvements.\n",
    "\n",
    "Basic sentiment analysis only understands the *positive* or *negative* (sometimes *neutral* too) polarities of the sentiment. More advanced sentiment analysis will also consider dimensions such as agreement, subjectivity, confidence, irony, and so on. In this challenge we will conduct the basic positive vs negative sentiment analysis based on real Twitter tweets.\n",
    "\n",
    "NLTK comes with a [sentiment analysis package](https://www.nltk.org/api/nltk.sentiment.html). This package is great for dummies to perform sentiment analysis because it requires only the textual data to make predictions. For example:\n",
    "\n",
    "```python\n",
    ">>> from nltk.sentiment.vader import SentimentIntensityAnalyzer\n",
    ">>> txt = \"Ironhack is a Global Tech School ranked num 2 worldwide.  ",
    " ",
    "Our mission is to help people transform their careers and join a thriving community of tech professionals that love what they do.\"\n",
    ">>> analyzer = SentimentIntensityAnalyzer()\n",
    ">>> analyzer.polarity_scores(txt)\n",
    "{'neg': 0.0, 'neu': 0.741, 'pos': 0.259, 'compound': 0.8442}\n",
    "```\n",
    "\n",
    "In this challenge, however, you will not use NLTK's sentiment analysis package because in your Machine Learning training in the past 2 weeks you have learned how to make predictions more accurate than that. The [tweets data](https://www.kaggle.com/kazanova/sentiment140) we will be using today are already coded for the positive/negative sentiment. You will be able to use the Naïve Bayes classifier you learned in the lesson to predict the sentiment of tweets based on the labels."
   ]
  },
  {
   "cell_type": "markdown",
   "metadata": {},
   "source": [
    "## Conducting Sentiment Analysis\n",
    "\n",
    "### Loading and Exploring Data\n",
    "\n",
    "The dataset we'll be using today is located in the lab directory named `Sentiment140.csv.zip`. You need to unzip it into a `.csv` file. Then in the cell below, load and explore the data.\n",
    "\n",
    "*Notes:* \n",
    "\n",
    "* The dataset was downloaded from [Kaggle](https://www.kaggle.com/kazanova/sentiment140). We made a slight change on the original data so that each column has a label.\n",
    "\n",
    "* The dataset is huuuuge (1.6m tweets). When you develop your data analysis codes, you can sample a subset of the data (e.g. 20k records) so that you will save a lot of time when you test your codes."
   ]
  },
  {
   "cell_type": "code",
   "execution_count": 1,
   "metadata": {},
   "outputs": [],
   "source": [
    "import pandas as pd\n",
    "import numpy as np\n",
    "import re"
   ]
  },
  {
   "cell_type": "code",
   "execution_count": 2,
   "metadata": {},
   "outputs": [],
   "source": [
    "col_names = ['target', 'id', 'date', 'flag', 'user', 'text']"
   ]
  },
  {
   "cell_type": "code",
   "execution_count": 3,
   "metadata": {},
   "outputs": [],
   "source": [
    "# your code here\n",
    "\n",
    "df = pd.read_csv('./data/training.1600000.processed.noemoticon.csv',encoding='latin1', header=None, names=col_names)"
   ]
  },
  {
   "cell_type": "code",
   "execution_count": 4,
   "metadata": {},
   "outputs": [
    {
     "data": {
      "text/html": [
       "<div>\n",
       "<style scoped>\n",
       "    .dataframe tbody tr th:only-of-type {\n",
       "        vertical-align: middle;\n",
       "    }\n",
       "\n",
       "    .dataframe tbody tr th {\n",
       "        vertical-align: top;\n",
       "    }\n",
       "\n",
       "    .dataframe thead th {\n",
       "        text-align: right;\n",
       "    }\n",
       "</style>\n",
       "<table border=\"1\" class=\"dataframe\">\n",
       "  <thead>\n",
       "    <tr style=\"text-align: right;\">\n",
       "      <th></th>\n",
       "      <th>target</th>\n",
       "      <th>id</th>\n",
       "      <th>date</th>\n",
       "      <th>flag</th>\n",
       "      <th>user</th>\n",
       "      <th>text</th>\n",
       "    </tr>\n",
       "  </thead>\n",
       "  <tbody>\n",
       "    <tr>\n",
       "      <th>1054413</th>\n",
       "      <td>4</td>\n",
       "      <td>1961988118</td>\n",
       "      <td>Fri May 29 10:20:58 PDT 2009</td>\n",
       "      <td>NO_QUERY</td>\n",
       "      <td>mariaam1004</td>\n",
       "      <td>1, 300 updates!!!!</td>\n",
       "    </tr>\n",
       "    <tr>\n",
       "      <th>134725</th>\n",
       "      <td>0</td>\n",
       "      <td>1836333909</td>\n",
       "      <td>Mon May 18 07:48:39 PDT 2009</td>\n",
       "      <td>NO_QUERY</td>\n",
       "      <td>zeisch</td>\n",
       "      <td>@afimomogum RM15! but i vont be at homegrown</td>\n",
       "    </tr>\n",
       "    <tr>\n",
       "      <th>1010905</th>\n",
       "      <td>4</td>\n",
       "      <td>1881047963</td>\n",
       "      <td>Fri May 22 03:25:17 PDT 2009</td>\n",
       "      <td>NO_QUERY</td>\n",
       "      <td>Phylomene</td>\n",
       "      <td>@itslauraaa AHAH WHat is it pie???</td>\n",
       "    </tr>\n",
       "    <tr>\n",
       "      <th>1410911</th>\n",
       "      <td>4</td>\n",
       "      <td>2056371511</td>\n",
       "      <td>Sat Jun 06 11:01:26 PDT 2009</td>\n",
       "      <td>NO_QUERY</td>\n",
       "      <td>dianebr25</td>\n",
       "      <td>i just wached shanedawson's new vid it frekin ...</td>\n",
       "    </tr>\n",
       "    <tr>\n",
       "      <th>1520429</th>\n",
       "      <td>4</td>\n",
       "      <td>2176197871</td>\n",
       "      <td>Mon Jun 15 03:11:42 PDT 2009</td>\n",
       "      <td>NO_QUERY</td>\n",
       "      <td>wardrox</td>\n",
       "      <td>@yarpp all seems to work. Ah well, I guess my ...</td>\n",
       "    </tr>\n",
       "    <tr>\n",
       "      <th>...</th>\n",
       "      <td>...</td>\n",
       "      <td>...</td>\n",
       "      <td>...</td>\n",
       "      <td>...</td>\n",
       "      <td>...</td>\n",
       "      <td>...</td>\n",
       "    </tr>\n",
       "    <tr>\n",
       "      <th>1471485</th>\n",
       "      <td>4</td>\n",
       "      <td>2065215882</td>\n",
       "      <td>Sun Jun 07 08:08:27 PDT 2009</td>\n",
       "      <td>NO_QUERY</td>\n",
       "      <td>spulian</td>\n",
       "      <td>oooh catch me if you can is on</td>\n",
       "    </tr>\n",
       "    <tr>\n",
       "      <th>1219796</th>\n",
       "      <td>4</td>\n",
       "      <td>1989982507</td>\n",
       "      <td>Mon Jun 01 03:29:13 PDT 2009</td>\n",
       "      <td>NO_QUERY</td>\n",
       "      <td>Sabbelusa</td>\n",
       "      <td>watched &amp;quot;the Junglebook&amp;quot; w/ friends ...</td>\n",
       "    </tr>\n",
       "    <tr>\n",
       "      <th>556824</th>\n",
       "      <td>0</td>\n",
       "      <td>2204373161</td>\n",
       "      <td>Wed Jun 17 02:02:43 PDT 2009</td>\n",
       "      <td>NO_QUERY</td>\n",
       "      <td>alcoholiccheese</td>\n",
       "      <td>They do it cause they hate me  http://twitpic....</td>\n",
       "    </tr>\n",
       "    <tr>\n",
       "      <th>159664</th>\n",
       "      <td>0</td>\n",
       "      <td>1956889553</td>\n",
       "      <td>Thu May 28 22:57:16 PDT 2009</td>\n",
       "      <td>NO_QUERY</td>\n",
       "      <td>scottfotki</td>\n",
       "      <td>@MarieLuv dammit...... try again?</td>\n",
       "    </tr>\n",
       "    <tr>\n",
       "      <th>325398</th>\n",
       "      <td>0</td>\n",
       "      <td>2007298812</td>\n",
       "      <td>Tue Jun 02 12:26:30 PDT 2009</td>\n",
       "      <td>NO_QUERY</td>\n",
       "      <td>SimplyMe28</td>\n",
       "      <td>Dang...missed Dawn live...but these apple jack...</td>\n",
       "    </tr>\n",
       "  </tbody>\n",
       "</table>\n",
       "<p>20000 rows × 6 columns</p>\n",
       "</div>"
      ],
      "text/plain": [
       "         target          id                          date      flag  \\\n",
       "1054413       4  1961988118  Fri May 29 10:20:58 PDT 2009  NO_QUERY   \n",
       "134725        0  1836333909  Mon May 18 07:48:39 PDT 2009  NO_QUERY   \n",
       "1010905       4  1881047963  Fri May 22 03:25:17 PDT 2009  NO_QUERY   \n",
       "1410911       4  2056371511  Sat Jun 06 11:01:26 PDT 2009  NO_QUERY   \n",
       "1520429       4  2176197871  Mon Jun 15 03:11:42 PDT 2009  NO_QUERY   \n",
       "...         ...         ...                           ...       ...   \n",
       "1471485       4  2065215882  Sun Jun 07 08:08:27 PDT 2009  NO_QUERY   \n",
       "1219796       4  1989982507  Mon Jun 01 03:29:13 PDT 2009  NO_QUERY   \n",
       "556824        0  2204373161  Wed Jun 17 02:02:43 PDT 2009  NO_QUERY   \n",
       "159664        0  1956889553  Thu May 28 22:57:16 PDT 2009  NO_QUERY   \n",
       "325398        0  2007298812  Tue Jun 02 12:26:30 PDT 2009  NO_QUERY   \n",
       "\n",
       "                    user                                               text  \n",
       "1054413      mariaam1004                                1, 300 updates!!!!   \n",
       "134725            zeisch      @afimomogum RM15! but i vont be at homegrown   \n",
       "1010905        Phylomene                @itslauraaa AHAH WHat is it pie???   \n",
       "1410911        dianebr25  i just wached shanedawson's new vid it frekin ...  \n",
       "1520429          wardrox  @yarpp all seems to work. Ah well, I guess my ...  \n",
       "...                  ...                                                ...  \n",
       "1471485          spulian                    oooh catch me if you can is on   \n",
       "1219796        Sabbelusa  watched &quot;the Junglebook&quot; w/ friends ...  \n",
       "556824   alcoholiccheese  They do it cause they hate me  http://twitpic....  \n",
       "159664        scottfotki                 @MarieLuv dammit...... try again?   \n",
       "325398        SimplyMe28  Dang...missed Dawn live...but these apple jack...  \n",
       "\n",
       "[20000 rows x 6 columns]"
      ]
     },
     "execution_count": 4,
     "metadata": {},
     "output_type": "execute_result"
    }
   ],
   "source": [
    "df_reduced = df.sample(20000)\n",
    "df_reduced"
   ]
  },
  {
   "cell_type": "markdown",
   "metadata": {},
   "source": [
    "### Prepare Textual Data for Sentiment Analysis\n",
    "\n",
    "Now, apply the functions you have written in Challenge 1 to your whole data set. These functions include:\n",
    "\n",
    "* `clean_up()`\n",
    "\n",
    "* `tokenize()`\n",
    "\n",
    "* `stem_and_lemmatize()`\n",
    "\n",
    "* `remove_stopwords()`\n",
    "\n",
    "Create a new column called `text_processed` in the dataframe to contain the processed data. At the end, your `text_processed` column should contain lists of word tokens that are cleaned up. Your data should look like below:\n",
    "\n",
    "![Processed Data](data-cleaning-results.png)"
   ]
  },
  {
   "cell_type": "code",
   "execution_count": 5,
   "metadata": {},
   "outputs": [],
   "source": [
    "# your code here\n",
    "\n",
    "def clean_up(s):\n",
    "    \n",
    "    url = re.sub('http://[\\\\w]+\\\\.\\\\w+', '', s)\n",
    "    numbers = re.sub('\\\\d+', '', url).lower()\n",
    "    new_string = re.sub('[^a-z0-9]', ' ', numbers).strip()\n",
    "    \n",
    "    return new_string"
   ]
  },
  {
   "cell_type": "code",
   "execution_count": 6,
   "metadata": {},
   "outputs": [
    {
     "name": "stderr",
     "output_type": "stream",
     "text": [
      "[nltk_data] Downloading package punkt to /home/usuario/nltk_data...\n",
      "[nltk_data]   Package punkt is already up-to-date!\n"
     ]
    },
    {
     "data": {
      "text/plain": [
       "True"
      ]
     },
     "execution_count": 6,
     "metadata": {},
     "output_type": "execute_result"
    }
   ],
   "source": [
    "import nltk\n",
    "from nltk import word_tokenize\n",
    "nltk.download('punkt')"
   ]
  },
  {
   "cell_type": "code",
   "execution_count": 7,
   "metadata": {},
   "outputs": [],
   "source": [
    "def tokenize(s):\n",
    "    \n",
    "    return word_tokenize(s)"
   ]
  },
  {
   "cell_type": "code",
   "execution_count": 8,
   "metadata": {},
   "outputs": [],
   "source": [
    "from nltk.stem import PorterStemmer\n",
    "porter = PorterStemmer()"
   ]
  },
  {
   "cell_type": "code",
   "execution_count": 9,
   "metadata": {},
   "outputs": [],
   "source": [
    "def stem_and_lemmatize(l):\n",
    "\n",
    "    return [porter.stem(i) for i in l]"
   ]
  },
  {
   "cell_type": "code",
   "execution_count": 10,
   "metadata": {},
   "outputs": [],
   "source": [
    "from nltk.corpus import stopwords"
   ]
  },
  {
   "cell_type": "code",
   "execution_count": 11,
   "metadata": {},
   "outputs": [],
   "source": [
    "def remove_stopwords(l):\n",
    "\n",
    "        stop_words = set(stopwords.words('english'))\n",
    "        \n",
    "        return [w for w in l if w not in stop_words]"
   ]
  },
  {
   "cell_type": "code",
   "execution_count": 12,
   "metadata": {},
   "outputs": [],
   "source": [
    "df_reduced['text_processed'] = df_reduced['text'].apply(clean_up)"
   ]
  },
  {
   "cell_type": "code",
   "execution_count": 13,
   "metadata": {},
   "outputs": [],
   "source": [
    "df_reduced['text_processed'] = df_reduced['text_processed'].apply(tokenize, stem_and_lemmatize)"
   ]
  },
  {
   "cell_type": "code",
   "execution_count": 14,
   "metadata": {},
   "outputs": [],
   "source": [
    "df_reduced['text_processed'] = df_reduced['text_processed'].apply(remove_stopwords)"
   ]
  },
  {
   "cell_type": "code",
   "execution_count": 15,
   "metadata": {},
   "outputs": [
    {
     "data": {
      "text/html": [
       "<div>\n",
       "<style scoped>\n",
       "    .dataframe tbody tr th:only-of-type {\n",
       "        vertical-align: middle;\n",
       "    }\n",
       "\n",
       "    .dataframe tbody tr th {\n",
       "        vertical-align: top;\n",
       "    }\n",
       "\n",
       "    .dataframe thead th {\n",
       "        text-align: right;\n",
       "    }\n",
       "</style>\n",
       "<table border=\"1\" class=\"dataframe\">\n",
       "  <thead>\n",
       "    <tr style=\"text-align: right;\">\n",
       "      <th></th>\n",
       "      <th>target</th>\n",
       "      <th>id</th>\n",
       "      <th>date</th>\n",
       "      <th>flag</th>\n",
       "      <th>user</th>\n",
       "      <th>text</th>\n",
       "      <th>text_processed</th>\n",
       "    </tr>\n",
       "  </thead>\n",
       "  <tbody>\n",
       "    <tr>\n",
       "      <th>1054413</th>\n",
       "      <td>4</td>\n",
       "      <td>1961988118</td>\n",
       "      <td>Fri May 29 10:20:58 PDT 2009</td>\n",
       "      <td>NO_QUERY</td>\n",
       "      <td>mariaam1004</td>\n",
       "      <td>1, 300 updates!!!!</td>\n",
       "      <td>[updates]</td>\n",
       "    </tr>\n",
       "    <tr>\n",
       "      <th>134725</th>\n",
       "      <td>0</td>\n",
       "      <td>1836333909</td>\n",
       "      <td>Mon May 18 07:48:39 PDT 2009</td>\n",
       "      <td>NO_QUERY</td>\n",
       "      <td>zeisch</td>\n",
       "      <td>@afimomogum RM15! but i vont be at homegrown</td>\n",
       "      <td>[afimomogum, rm, vont, homegrown]</td>\n",
       "    </tr>\n",
       "    <tr>\n",
       "      <th>1010905</th>\n",
       "      <td>4</td>\n",
       "      <td>1881047963</td>\n",
       "      <td>Fri May 22 03:25:17 PDT 2009</td>\n",
       "      <td>NO_QUERY</td>\n",
       "      <td>Phylomene</td>\n",
       "      <td>@itslauraaa AHAH WHat is it pie???</td>\n",
       "      <td>[itslauraaa, ahah, pie]</td>\n",
       "    </tr>\n",
       "    <tr>\n",
       "      <th>1410911</th>\n",
       "      <td>4</td>\n",
       "      <td>2056371511</td>\n",
       "      <td>Sat Jun 06 11:01:26 PDT 2009</td>\n",
       "      <td>NO_QUERY</td>\n",
       "      <td>dianebr25</td>\n",
       "      <td>i just wached shanedawson's new vid it frekin ...</td>\n",
       "      <td>[wached, shanedawson, new, vid, frekin, rocked]</td>\n",
       "    </tr>\n",
       "    <tr>\n",
       "      <th>1520429</th>\n",
       "      <td>4</td>\n",
       "      <td>2176197871</td>\n",
       "      <td>Mon Jun 15 03:11:42 PDT 2009</td>\n",
       "      <td>NO_QUERY</td>\n",
       "      <td>wardrox</td>\n",
       "      <td>@yarpp all seems to work. Ah well, I guess my ...</td>\n",
       "      <td>[yarpp, seems, work, ah, well, guess, issue, e...</td>\n",
       "    </tr>\n",
       "    <tr>\n",
       "      <th>...</th>\n",
       "      <td>...</td>\n",
       "      <td>...</td>\n",
       "      <td>...</td>\n",
       "      <td>...</td>\n",
       "      <td>...</td>\n",
       "      <td>...</td>\n",
       "      <td>...</td>\n",
       "    </tr>\n",
       "    <tr>\n",
       "      <th>1471485</th>\n",
       "      <td>4</td>\n",
       "      <td>2065215882</td>\n",
       "      <td>Sun Jun 07 08:08:27 PDT 2009</td>\n",
       "      <td>NO_QUERY</td>\n",
       "      <td>spulian</td>\n",
       "      <td>oooh catch me if you can is on</td>\n",
       "      <td>[oooh, catch]</td>\n",
       "    </tr>\n",
       "    <tr>\n",
       "      <th>1219796</th>\n",
       "      <td>4</td>\n",
       "      <td>1989982507</td>\n",
       "      <td>Mon Jun 01 03:29:13 PDT 2009</td>\n",
       "      <td>NO_QUERY</td>\n",
       "      <td>Sabbelusa</td>\n",
       "      <td>watched &amp;quot;the Junglebook&amp;quot; w/ friends ...</td>\n",
       "      <td>[watched, quot, junglebook, quot, w, friends, ...</td>\n",
       "    </tr>\n",
       "    <tr>\n",
       "      <th>556824</th>\n",
       "      <td>0</td>\n",
       "      <td>2204373161</td>\n",
       "      <td>Wed Jun 17 02:02:43 PDT 2009</td>\n",
       "      <td>NO_QUERY</td>\n",
       "      <td>alcoholiccheese</td>\n",
       "      <td>They do it cause they hate me  http://twitpic....</td>\n",
       "      <td>[cause, hate, lybd]</td>\n",
       "    </tr>\n",
       "    <tr>\n",
       "      <th>159664</th>\n",
       "      <td>0</td>\n",
       "      <td>1956889553</td>\n",
       "      <td>Thu May 28 22:57:16 PDT 2009</td>\n",
       "      <td>NO_QUERY</td>\n",
       "      <td>scottfotki</td>\n",
       "      <td>@MarieLuv dammit...... try again?</td>\n",
       "      <td>[marieluv, dammit, try]</td>\n",
       "    </tr>\n",
       "    <tr>\n",
       "      <th>325398</th>\n",
       "      <td>0</td>\n",
       "      <td>2007298812</td>\n",
       "      <td>Tue Jun 02 12:26:30 PDT 2009</td>\n",
       "      <td>NO_QUERY</td>\n",
       "      <td>SimplyMe28</td>\n",
       "      <td>Dang...missed Dawn live...but these apple jack...</td>\n",
       "      <td>[dang, missed, dawn, live, apple, jacks, r, ma...</td>\n",
       "    </tr>\n",
       "  </tbody>\n",
       "</table>\n",
       "<p>20000 rows × 7 columns</p>\n",
       "</div>"
      ],
      "text/plain": [
       "         target          id                          date      flag  \\\n",
       "1054413       4  1961988118  Fri May 29 10:20:58 PDT 2009  NO_QUERY   \n",
       "134725        0  1836333909  Mon May 18 07:48:39 PDT 2009  NO_QUERY   \n",
       "1010905       4  1881047963  Fri May 22 03:25:17 PDT 2009  NO_QUERY   \n",
       "1410911       4  2056371511  Sat Jun 06 11:01:26 PDT 2009  NO_QUERY   \n",
       "1520429       4  2176197871  Mon Jun 15 03:11:42 PDT 2009  NO_QUERY   \n",
       "...         ...         ...                           ...       ...   \n",
       "1471485       4  2065215882  Sun Jun 07 08:08:27 PDT 2009  NO_QUERY   \n",
       "1219796       4  1989982507  Mon Jun 01 03:29:13 PDT 2009  NO_QUERY   \n",
       "556824        0  2204373161  Wed Jun 17 02:02:43 PDT 2009  NO_QUERY   \n",
       "159664        0  1956889553  Thu May 28 22:57:16 PDT 2009  NO_QUERY   \n",
       "325398        0  2007298812  Tue Jun 02 12:26:30 PDT 2009  NO_QUERY   \n",
       "\n",
       "                    user                                               text  \\\n",
       "1054413      mariaam1004                                1, 300 updates!!!!    \n",
       "134725            zeisch      @afimomogum RM15! but i vont be at homegrown    \n",
       "1010905        Phylomene                @itslauraaa AHAH WHat is it pie???    \n",
       "1410911        dianebr25  i just wached shanedawson's new vid it frekin ...   \n",
       "1520429          wardrox  @yarpp all seems to work. Ah well, I guess my ...   \n",
       "...                  ...                                                ...   \n",
       "1471485          spulian                    oooh catch me if you can is on    \n",
       "1219796        Sabbelusa  watched &quot;the Junglebook&quot; w/ friends ...   \n",
       "556824   alcoholiccheese  They do it cause they hate me  http://twitpic....   \n",
       "159664        scottfotki                 @MarieLuv dammit...... try again?    \n",
       "325398        SimplyMe28  Dang...missed Dawn live...but these apple jack...   \n",
       "\n",
       "                                            text_processed  \n",
       "1054413                                          [updates]  \n",
       "134725                   [afimomogum, rm, vont, homegrown]  \n",
       "1010905                            [itslauraaa, ahah, pie]  \n",
       "1410911    [wached, shanedawson, new, vid, frekin, rocked]  \n",
       "1520429  [yarpp, seems, work, ah, well, guess, issue, e...  \n",
       "...                                                    ...  \n",
       "1471485                                      [oooh, catch]  \n",
       "1219796  [watched, quot, junglebook, quot, w, friends, ...  \n",
       "556824                                 [cause, hate, lybd]  \n",
       "159664                             [marieluv, dammit, try]  \n",
       "325398   [dang, missed, dawn, live, apple, jacks, r, ma...  \n",
       "\n",
       "[20000 rows x 7 columns]"
      ]
     },
     "execution_count": 15,
     "metadata": {},
     "output_type": "execute_result"
    }
   ],
   "source": [
    "df_reduced"
   ]
  },
  {
   "cell_type": "markdown",
   "metadata": {},
   "source": [
    "### Creating Bag of Words\n",
    "\n",
    "The purpose of this step is to create a [bag of words](https://en.wikipedia.org/wiki/Bag-of-words_model) from the processed data. The bag of words contains all the unique words in your whole text body (a.k.a. *corpus*) with the number of occurrence of each word. It will allow you to understand which words are the most important features across the whole corpus.\n",
    "\n",
    "Also, you can imagine you will have a massive set of words. The less important words (i.e. those of very low number of occurrence) do not contribute much to the sentiment. Therefore, you only need to use the most important words to build your feature set in the next step. In our case, we will use the top 5,000 words with the highest frequency to build the features.\n",
    "\n",
    "In the cell below, combine all the words in `text_processed` and calculate the frequency distribution of all words. A convenient library to calculate the term frequency distribution is NLTK's `FreqDist` class ([documentation](https://www.nltk.org/api/nltk.html#module-nltk.probability)). Then select the top 5,000 words from the frequency distribution."
   ]
  },
  {
   "cell_type": "code",
   "execution_count": 16,
   "metadata": {},
   "outputs": [],
   "source": [
    "# your code here\n",
    "from nltk.probability import FreqDist"
   ]
  },
  {
   "cell_type": "code",
   "execution_count": 17,
   "metadata": {},
   "outputs": [],
   "source": [
    "# your code here\n",
    "cfdist = FreqDist()\n",
    "\n",
    "def freq_dist(x):\n",
    "    for i in x:\n",
    "        cfdist[i] += 1"
   ]
  },
  {
   "cell_type": "code",
   "execution_count": 19,
   "metadata": {},
   "outputs": [
    {
     "data": {
      "text/plain": [
       "1054413    None\n",
       "134725     None\n",
       "1010905    None\n",
       "1410911    None\n",
       "1520429    None\n",
       "           ... \n",
       "1471485    None\n",
       "1219796    None\n",
       "556824     None\n",
       "159664     None\n",
       "325398     None\n",
       "Name: text_processed, Length: 20000, dtype: object"
      ]
     },
     "execution_count": 19,
     "metadata": {},
     "output_type": "execute_result"
    }
   ],
   "source": [
    "df_reduced['text_processed'].apply(lambda x: freq_dist(x))"
   ]
  },
  {
   "cell_type": "code",
   "execution_count": 20,
   "metadata": {},
   "outputs": [],
   "source": [
    "common_words = cfdist.most_common(5000)"
   ]
  },
  {
   "cell_type": "markdown",
   "metadata": {},
   "source": [
    "### Building Features\n",
    "\n",
    "Now let's build the features. Using the top 5,000 words, create a 2-dimensional matrix to record whether each of those words is contained in each document (tweet). Then you also have an output column to indicate whether the sentiment in each tweet is positive. For example, assuming your bag of words has 5 items (`['one', 'two', 'three', 'four', 'five']`) out of 4 documents (`['A', 'B', 'C', 'D']`), your feature set is essentially:\n",
    "\n",
    "| Doc | one | two | three | four | five | is_positive |\n",
    "|---|---|---|---|---|---|---|\n",
    "| A | True | False | False | True | False | True |\n",
    "| B | False | False | False | True | True | False |\n",
    "| C | False | True | False | False | False | True |\n",
    "| D | True | False | False | False | True | False|\n",
    "\n",
    "However, because the `nltk.NaiveBayesClassifier.train` class we will use in the next step does not work with Pandas dataframe, the structure of your feature set should be converted to the Python list looking like below:\n",
    "\n",
    "```python\n",
    "[\n",
    "\t({\n",
    "\t\t'one': True,\n",
    "\t\t'two': False,\n",
    "\t\t'three': False,\n",
    "\t\t'four': True,\n",
    "\t\t'five': False\n",
    "\t}, True),\n",
    "\t({\n",
    "\t\t'one': False,\n",
    "\t\t'two': False,\n",
    "\t\t'three': False,\n",
    "\t\t'four': True,\n",
    "\t\t'five': True\n",
    "\t}, False),\n",
    "\t({\n",
    "\t\t'one': False,\n",
    "\t\t'two': True,\n",
    "\t\t'three': False,\n",
    "\t\t'four': False,\n",
    "\t\t'five': False\n",
    "\t}, True),\n",
    "\t({\n",
    "\t\t'one': True,\n",
    "\t\t'two': False,\n",
    "\t\t'three': False,\n",
    "\t\t'four': False,\n",
    "\t\t'five': True\n",
    "\t}, False)\n",
    "]\n",
    "```\n",
    "\n",
    "To help you in this step, watch the [following video](https://www.youtube.com/watch?v=-vVskDsHcVc) to learn how to build the feature set with Python and NLTK. The source code in this video can be found [here](https://pythonprogramming.net/words-as-features-nltk-tutorial/)."
   ]
  },
  {
   "cell_type": "markdown",
   "metadata": {},
   "source": [
    "[![Building Features](building-features.jpg)](https://www.youtube.com/watch?v=-vVskDsHcVc)"
   ]
  },
  {
   "cell_type": "code",
   "execution_count": 21,
   "metadata": {},
   "outputs": [],
   "source": [
    "df_reduced['positive'] = df['target'].apply(lambda x: False if x == 0 else True)"
   ]
  },
  {
   "cell_type": "code",
   "execution_count": 22,
   "metadata": {},
   "outputs": [
    {
     "data": {
      "text/html": [
       "<div>\n",
       "<style scoped>\n",
       "    .dataframe tbody tr th:only-of-type {\n",
       "        vertical-align: middle;\n",
       "    }\n",
       "\n",
       "    .dataframe tbody tr th {\n",
       "        vertical-align: top;\n",
       "    }\n",
       "\n",
       "    .dataframe thead th {\n",
       "        text-align: right;\n",
       "    }\n",
       "</style>\n",
       "<table border=\"1\" class=\"dataframe\">\n",
       "  <thead>\n",
       "    <tr style=\"text-align: right;\">\n",
       "      <th></th>\n",
       "      <th>target</th>\n",
       "      <th>id</th>\n",
       "      <th>date</th>\n",
       "      <th>flag</th>\n",
       "      <th>user</th>\n",
       "      <th>text</th>\n",
       "      <th>text_processed</th>\n",
       "      <th>positive</th>\n",
       "    </tr>\n",
       "  </thead>\n",
       "  <tbody>\n",
       "    <tr>\n",
       "      <th>1054413</th>\n",
       "      <td>4</td>\n",
       "      <td>1961988118</td>\n",
       "      <td>Fri May 29 10:20:58 PDT 2009</td>\n",
       "      <td>NO_QUERY</td>\n",
       "      <td>mariaam1004</td>\n",
       "      <td>1, 300 updates!!!!</td>\n",
       "      <td>[updates]</td>\n",
       "      <td>True</td>\n",
       "    </tr>\n",
       "    <tr>\n",
       "      <th>134725</th>\n",
       "      <td>0</td>\n",
       "      <td>1836333909</td>\n",
       "      <td>Mon May 18 07:48:39 PDT 2009</td>\n",
       "      <td>NO_QUERY</td>\n",
       "      <td>zeisch</td>\n",
       "      <td>@afimomogum RM15! but i vont be at homegrown</td>\n",
       "      <td>[afimomogum, rm, vont, homegrown]</td>\n",
       "      <td>False</td>\n",
       "    </tr>\n",
       "    <tr>\n",
       "      <th>1010905</th>\n",
       "      <td>4</td>\n",
       "      <td>1881047963</td>\n",
       "      <td>Fri May 22 03:25:17 PDT 2009</td>\n",
       "      <td>NO_QUERY</td>\n",
       "      <td>Phylomene</td>\n",
       "      <td>@itslauraaa AHAH WHat is it pie???</td>\n",
       "      <td>[itslauraaa, ahah, pie]</td>\n",
       "      <td>True</td>\n",
       "    </tr>\n",
       "    <tr>\n",
       "      <th>1410911</th>\n",
       "      <td>4</td>\n",
       "      <td>2056371511</td>\n",
       "      <td>Sat Jun 06 11:01:26 PDT 2009</td>\n",
       "      <td>NO_QUERY</td>\n",
       "      <td>dianebr25</td>\n",
       "      <td>i just wached shanedawson's new vid it frekin ...</td>\n",
       "      <td>[wached, shanedawson, new, vid, frekin, rocked]</td>\n",
       "      <td>True</td>\n",
       "    </tr>\n",
       "    <tr>\n",
       "      <th>1520429</th>\n",
       "      <td>4</td>\n",
       "      <td>2176197871</td>\n",
       "      <td>Mon Jun 15 03:11:42 PDT 2009</td>\n",
       "      <td>NO_QUERY</td>\n",
       "      <td>wardrox</td>\n",
       "      <td>@yarpp all seems to work. Ah well, I guess my ...</td>\n",
       "      <td>[yarpp, seems, work, ah, well, guess, issue, e...</td>\n",
       "      <td>True</td>\n",
       "    </tr>\n",
       "  </tbody>\n",
       "</table>\n",
       "</div>"
      ],
      "text/plain": [
       "         target          id                          date      flag  \\\n",
       "1054413       4  1961988118  Fri May 29 10:20:58 PDT 2009  NO_QUERY   \n",
       "134725        0  1836333909  Mon May 18 07:48:39 PDT 2009  NO_QUERY   \n",
       "1010905       4  1881047963  Fri May 22 03:25:17 PDT 2009  NO_QUERY   \n",
       "1410911       4  2056371511  Sat Jun 06 11:01:26 PDT 2009  NO_QUERY   \n",
       "1520429       4  2176197871  Mon Jun 15 03:11:42 PDT 2009  NO_QUERY   \n",
       "\n",
       "                user                                               text  \\\n",
       "1054413  mariaam1004                                1, 300 updates!!!!    \n",
       "134725        zeisch      @afimomogum RM15! but i vont be at homegrown    \n",
       "1010905    Phylomene                @itslauraaa AHAH WHat is it pie???    \n",
       "1410911    dianebr25  i just wached shanedawson's new vid it frekin ...   \n",
       "1520429      wardrox  @yarpp all seems to work. Ah well, I guess my ...   \n",
       "\n",
       "                                            text_processed  positive  \n",
       "1054413                                          [updates]      True  \n",
       "134725                   [afimomogum, rm, vont, homegrown]     False  \n",
       "1010905                            [itslauraaa, ahah, pie]      True  \n",
       "1410911    [wached, shanedawson, new, vid, frekin, rocked]      True  \n",
       "1520429  [yarpp, seems, work, ah, well, guess, issue, e...      True  "
      ]
     },
     "execution_count": 22,
     "metadata": {},
     "output_type": "execute_result"
    }
   ],
   "source": [
    "df_reduced.head()"
   ]
  },
  {
   "cell_type": "code",
   "execution_count": 25,
   "metadata": {},
   "outputs": [],
   "source": [
    "columns = common_words"
   ]
  },
  {
   "cell_type": "code",
   "execution_count": 27,
   "metadata": {},
   "outputs": [],
   "source": [
    "bag_words = []\n",
    "\n",
    "for index,row in df_reduced.iterrows():\n",
    "    processed_words = {}\n",
    "    for i in columns:\n",
    "         processed_words[i] = i in row['text_processed']\n",
    "\n",
    "    bag_words.append((processed_words, row['positive']))"
   ]
  },
  {
   "cell_type": "markdown",
   "metadata": {},
   "source": [
    "### Building and Traininng Naive Bayes Model\n",
    "\n",
    "In this step you will split your feature set into a training and a test set. Then you will create a Bayes classifier instance using `nltk.NaiveBayesClassifier.train` ([example](https://www.nltk.org/book/ch06.html)) to train with the training dataset.\n",
    "\n",
    "After training the model, call `classifier.show_most_informative_features()` to inspect the most important features. The output will look like:\n",
    "\n",
    "```\n",
    "Most Informative Features\n",
    "\t    snow = True            False : True   =     34.3 : 1.0\n",
    "\t  easter = True            False : True   =     26.2 : 1.0\n",
    "\t headach = True            False : True   =     20.9 : 1.0\n",
    "\t    argh = True            False : True   =     17.6 : 1.0\n",
    "\tunfortun = True            False : True   =     16.9 : 1.0\n",
    "\t    jona = True             True : False  =     16.2 : 1.0\n",
    "\t     ach = True            False : True   =     14.9 : 1.0\n",
    "\t     sad = True            False : True   =     13.0 : 1.0\n",
    "\t  parent = True            False : True   =     12.9 : 1.0\n",
    "\t  spring = True            False : True   =     12.7 : 1.0\n",
    "```\n",
    "\n",
    "The [following video](https://www.youtube.com/watch?v=rISOsUaTrO4) will help you complete this step. The source code in this video can be found [here](https://pythonprogramming.net/naive-bayes-classifier-nltk-tutorial/)."
   ]
  },
  {
   "cell_type": "markdown",
   "metadata": {},
   "source": [
    "[![Building and Training NB](nb-model-building.jpg)](https://www.youtube.com/watch?v=rISOsUaTrO4)"
   ]
  },
  {
   "cell_type": "code",
   "execution_count": 30,
   "metadata": {},
   "outputs": [
    {
     "name": "stdout",
     "output_type": "stream",
     "text": [
      "Most Informative Features\n",
      "             ('aaah', 4) = False           False : True   =      1.0 : 1.0\n",
      "              ('aah', 5) = False           False : True   =      1.0 : 1.0\n",
      "             ('aane', 3) = False           False : True   =      1.0 : 1.0\n",
      "            ('aaron', 7) = False           False : True   =      1.0 : 1.0\n",
      "             ('abby', 4) = False           False : True   =      1.0 : 1.0\n",
      "              ('abc', 4) = False           False : True   =      1.0 : 1.0\n",
      "          ('ability', 3) = False           False : True   =      1.0 : 1.0\n",
      "             ('abit', 5) = False           False : True   =      1.0 : 1.0\n",
      "            ('able', 54) = False           False : True   =      1.0 : 1.0\n",
      "              ('abs', 3) = False           False : True   =      1.0 : 1.0\n"
     ]
    }
   ],
   "source": [
    "# your code here\n",
    "import nltk\n",
    "\n",
    "train_set, test_set = bag_words[:500], bag_words[:500]\n",
    "\n",
    "classifier = nltk.NaiveBayesClassifier.train(train_set)\n",
    "\n",
    "classifier.show_most_informative_features()"
   ]
  },
  {
   "cell_type": "markdown",
   "metadata": {},
   "source": [
    "### Testing Naive Bayes Model\n",
    "\n",
    "Now we'll test our classifier with the test dataset. This is done by calling `nltk.classify.accuracy(classifier, test)`.\n",
    "\n",
    "As mentioned in one of the tutorial videos, a Naive Bayes model is considered OK if your accuracy score is over 0.6. If your accuracy score is over 0.7, you've done a great job!"
   ]
  },
  {
   "cell_type": "code",
   "execution_count": 31,
   "metadata": {},
   "outputs": [
    {
     "data": {
      "text/plain": [
       "0.514"
      ]
     },
     "execution_count": 31,
     "metadata": {},
     "output_type": "execute_result"
    }
   ],
   "source": [
    "# your code here\n",
    "\n",
    "nltk.classify.accuracy(classifier, test_set)"
   ]
  },
  {
   "cell_type": "markdown",
   "metadata": {},
   "source": [
    "## Bonus Question 1: Improve Model Performance\n",
    "\n",
    "If you are still not exhausted so far and want to dig deeper, try to improve your classifier performance. There are many aspects you can dig into, for example:\n",
    "\n",
    "* Improve stemming and lemmatization. Inspect your bag of words and the most important features. Are there any words you should furuther remove from analysis? You can append these words to further remove to the stop words list.\n",
    "\n",
    "* Remember we only used the top 5,000 features to build model? Try using different numbers of top features. The bottom line is to use as few features as you can without compromising your model performance. The fewer features you select into your model, the faster your model is trained. Then you can use a larger sample size to improve your model accuracy score."
   ]
  },
  {
   "cell_type": "code",
   "execution_count": null,
   "metadata": {},
   "outputs": [],
   "source": [
    "# your code here"
   ]
  },
  {
   "cell_type": "markdown",
   "metadata": {},
   "source": [
    "## Bonus Question 2: Machine Learning Pipeline\n",
    "\n",
    "In a new Jupyter Notebook, combine all your codes into a function (or a class). Your new function will execute the complete machine learning pipeline job by receiving the dataset location and output the classifier. This will allow you to use your function to predict the sentiment of any tweet in real time. "
   ]
  },
  {
   "cell_type": "code",
   "execution_count": null,
   "metadata": {},
   "outputs": [],
   "source": [
    "# your code here"
   ]
  },
  {
   "cell_type": "markdown",
   "metadata": {},
   "source": [
    "## Bonus Question 3: Apache Spark\n",
    "\n",
    "If you have completed the Apache Spark advanced topic lab, what you can do is to migrate your pipeline from local to a Databricks Notebook. Share your notebook with your instructor and classmates to show off your achievements!"
   ]
  },
  {
   "cell_type": "code",
   "execution_count": null,
   "metadata": {},
   "outputs": [],
   "source": [
    "# your code here"
   ]
  }
 ],
 "metadata": {
  "kernelspec": {
   "display_name": "Python [conda env:ironhack_env]",
   "language": "python",
   "name": "conda-env-ironhack_env-py"
  },
  "language_info": {
   "codemirror_mode": {
    "name": "ipython",
    "version": 3
   },
   "file_extension": ".py",
   "mimetype": "text/x-python",
   "name": "python",
   "nbconvert_exporter": "python",
   "pygments_lexer": "ipython3",
   "version": "3.8.5"
  }
 },
 "nbformat": 4,
 "nbformat_minor": 4
}
