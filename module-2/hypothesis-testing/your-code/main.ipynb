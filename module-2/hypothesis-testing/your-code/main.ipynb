{
 "cells": [
  {
   "cell_type": "markdown",
   "metadata": {},
   "source": [
    "# Before you start:\n",
    "- Read the README.md file\n",
    "- Comment as much as you can and use the resources (README.md file)\n",
    "- Happy learning!"
   ]
  },
  {
   "cell_type": "code",
   "execution_count": 11,
   "metadata": {},
   "outputs": [],
   "source": [
    "# import numpy and pandas\n",
    "import numpy as np\n",
    "import pandas as pd\n"
   ]
  },
  {
   "cell_type": "markdown",
   "metadata": {},
   "source": [
    "# Challenge 1 - Exploring the Data\n",
    "\n",
    "In this challenge, we will examine all salaries of employees of the City of Chicago. We will start by loading the dataset and examining its contents. Please, load the data using Ironhack's database (db: employees, table: employees_advanced)."
   ]
  },
  {
   "cell_type": "code",
   "execution_count": 12,
   "metadata": {},
   "outputs": [
    {
     "name": "stdout",
     "output_type": "stream",
     "text": [
      "El dataframe tiene 33183 filas y 8 columnas\n"
     ]
    }
   ],
   "source": [
    "# Your code here:\n",
    "df = pd.read_csv('data/hypothesis_testing_dataset.csv')\n",
    "\n",
    "num_rows, num_columns = df.shape\n",
    "print(f'El dataframe tiene {num_rows} filas y {num_columns} columnas')"
   ]
  },
  {
   "cell_type": "markdown",
   "metadata": {},
   "source": [
    "Examine the `salaries` dataset using the `head` function below."
   ]
  },
  {
   "cell_type": "code",
   "execution_count": 13,
   "metadata": {},
   "outputs": [
    {
     "data": {
      "text/html": [
       "<div>\n",
       "<style scoped>\n",
       "    .dataframe tbody tr th:only-of-type {\n",
       "        vertical-align: middle;\n",
       "    }\n",
       "\n",
       "    .dataframe tbody tr th {\n",
       "        vertical-align: top;\n",
       "    }\n",
       "\n",
       "    .dataframe thead th {\n",
       "        text-align: right;\n",
       "    }\n",
       "</style>\n",
       "<table border=\"1\" class=\"dataframe\">\n",
       "  <thead>\n",
       "    <tr style=\"text-align: right;\">\n",
       "      <th></th>\n",
       "      <th>Name</th>\n",
       "      <th>Job Titles</th>\n",
       "      <th>Department</th>\n",
       "      <th>Full or Part-Time</th>\n",
       "      <th>Salary or Hourly</th>\n",
       "      <th>Typical Hours</th>\n",
       "      <th>Annual Salary</th>\n",
       "      <th>Hourly Rate</th>\n",
       "    </tr>\n",
       "  </thead>\n",
       "  <tbody>\n",
       "    <tr>\n",
       "      <th>0</th>\n",
       "      <td>AARON,  JEFFERY M</td>\n",
       "      <td>SERGEANT</td>\n",
       "      <td>POLICE</td>\n",
       "      <td>F</td>\n",
       "      <td>Salary</td>\n",
       "      <td>NaN</td>\n",
       "      <td>101442.0</td>\n",
       "      <td>NaN</td>\n",
       "    </tr>\n",
       "    <tr>\n",
       "      <th>1</th>\n",
       "      <td>AARON,  KARINA</td>\n",
       "      <td>POLICE OFFICER (ASSIGNED AS DETECTIVE)</td>\n",
       "      <td>POLICE</td>\n",
       "      <td>F</td>\n",
       "      <td>Salary</td>\n",
       "      <td>NaN</td>\n",
       "      <td>94122.0</td>\n",
       "      <td>NaN</td>\n",
       "    </tr>\n",
       "    <tr>\n",
       "      <th>2</th>\n",
       "      <td>AARON,  KIMBERLEI R</td>\n",
       "      <td>CHIEF CONTRACT EXPEDITER</td>\n",
       "      <td>GENERAL SERVICES</td>\n",
       "      <td>F</td>\n",
       "      <td>Salary</td>\n",
       "      <td>NaN</td>\n",
       "      <td>101592.0</td>\n",
       "      <td>NaN</td>\n",
       "    </tr>\n",
       "    <tr>\n",
       "      <th>3</th>\n",
       "      <td>ABAD JR,  VICENTE M</td>\n",
       "      <td>CIVIL ENGINEER IV</td>\n",
       "      <td>WATER MGMNT</td>\n",
       "      <td>F</td>\n",
       "      <td>Salary</td>\n",
       "      <td>NaN</td>\n",
       "      <td>110064.0</td>\n",
       "      <td>NaN</td>\n",
       "    </tr>\n",
       "    <tr>\n",
       "      <th>4</th>\n",
       "      <td>ABASCAL,  REECE E</td>\n",
       "      <td>TRAFFIC CONTROL AIDE-HOURLY</td>\n",
       "      <td>OEMC</td>\n",
       "      <td>P</td>\n",
       "      <td>Hourly</td>\n",
       "      <td>20.0</td>\n",
       "      <td>NaN</td>\n",
       "      <td>19.86</td>\n",
       "    </tr>\n",
       "  </tbody>\n",
       "</table>\n",
       "</div>"
      ],
      "text/plain": [
       "                  Name                              Job Titles  \\\n",
       "0    AARON,  JEFFERY M                                SERGEANT   \n",
       "1      AARON,  KARINA   POLICE OFFICER (ASSIGNED AS DETECTIVE)   \n",
       "2  AARON,  KIMBERLEI R                CHIEF CONTRACT EXPEDITER   \n",
       "3  ABAD JR,  VICENTE M                       CIVIL ENGINEER IV   \n",
       "4    ABASCAL,  REECE E             TRAFFIC CONTROL AIDE-HOURLY   \n",
       "\n",
       "         Department Full or Part-Time Salary or Hourly  Typical Hours  \\\n",
       "0            POLICE                 F           Salary            NaN   \n",
       "1            POLICE                 F           Salary            NaN   \n",
       "2  GENERAL SERVICES                 F           Salary            NaN   \n",
       "3       WATER MGMNT                 F           Salary            NaN   \n",
       "4              OEMC                 P           Hourly           20.0   \n",
       "\n",
       "   Annual Salary  Hourly Rate  \n",
       "0       101442.0          NaN  \n",
       "1        94122.0          NaN  \n",
       "2       101592.0          NaN  \n",
       "3       110064.0          NaN  \n",
       "4            NaN        19.86  "
      ]
     },
     "execution_count": 13,
     "metadata": {},
     "output_type": "execute_result"
    }
   ],
   "source": [
    "# Your code here:\n",
    "df.head()\n"
   ]
  },
  {
   "cell_type": "markdown",
   "metadata": {},
   "source": [
    "We see from looking at the `head` function that there is quite a bit of missing data. Let's examine how much missing data is in each column. Produce this output in the cell below"
   ]
  },
  {
   "cell_type": "code",
   "execution_count": 14,
   "metadata": {},
   "outputs": [
    {
     "data": {
      "text/plain": [
       "Name                     0\n",
       "Job Titles               0\n",
       "Department               0\n",
       "Full or Part-Time        0\n",
       "Salary or Hourly         0\n",
       "Typical Hours        25161\n",
       "Annual Salary         8022\n",
       "Hourly Rate          25161\n",
       "dtype: int64"
      ]
     },
     "execution_count": 14,
     "metadata": {},
     "output_type": "execute_result"
    }
   ],
   "source": [
    "# Your code here:\n",
    "df.isna().sum()\n"
   ]
  },
  {
   "cell_type": "markdown",
   "metadata": {},
   "source": [
    "Let's also look at the count of hourly vs. salaried employees. Write the code in the cell below"
   ]
  },
  {
   "cell_type": "code",
   "execution_count": 15,
   "metadata": {},
   "outputs": [
    {
     "name": "stdout",
     "output_type": "stream",
     "text": [
      "There are 33183 employees: 25161 salaried and 8022 hourly\n"
     ]
    }
   ],
   "source": [
    "# Your code here:\n",
    "filter_full_time = df[\"Salary or Hourly\"] == 'Salary'\n",
    "filter_part_time = df[\"Salary or Hourly\"] == 'Hourly'\n",
    "\n",
    "num_full_time_employees = df[filter_full_time].shape[0]\n",
    "num_part_time_employees = df[filter_part_time].shape[0]\n",
    "\n",
    "print(f\"There are {num_rows} employees: {num_full_time_employees} salaried and {num_part_time_employees} hourly\")\n"
   ]
  },
  {
   "cell_type": "markdown",
   "metadata": {},
   "source": [
    "What this information indicates is that the table contains information about two types of employees - salaried and hourly. Some columns apply only to one type of employee while other columns only apply to another kind. This is why there are so many missing values. Therefore, we will not do anything to handle the missing values."
   ]
  },
  {
   "cell_type": "markdown",
   "metadata": {},
   "source": [
    "There are different departments in the city. List all departments and the count of employees in each department."
   ]
  },
  {
   "cell_type": "code",
   "execution_count": 16,
   "metadata": {},
   "outputs": [
    {
     "data": {
      "text/plain": [
       "POLICE                   13414\n",
       "FIRE                      4641\n",
       "STREETS & SAN             2198\n",
       "OEMC                      2102\n",
       "WATER MGMNT               1879\n",
       "AVIATION                  1629\n",
       "TRANSPORTN                1140\n",
       "PUBLIC LIBRARY            1015\n",
       "GENERAL SERVICES           980\n",
       "FAMILY & SUPPORT           615\n",
       "FINANCE                    560\n",
       "HEALTH                     488\n",
       "CITY COUNCIL               411\n",
       "LAW                        407\n",
       "BUILDINGS                  269\n",
       "COMMUNITY DEVELOPMENT      207\n",
       "BUSINESS AFFAIRS           171\n",
       "COPA                       116\n",
       "BOARD OF ELECTION          107\n",
       "DoIT                        99\n",
       "PROCUREMENT                 92\n",
       "INSPECTOR GEN               87\n",
       "MAYOR'S OFFICE              85\n",
       "CITY CLERK                  84\n",
       "ANIMAL CONTRL               81\n",
       "HUMAN RESOURCES             79\n",
       "CULTURAL AFFAIRS            65\n",
       "BUDGET & MGMT               46\n",
       "ADMIN HEARNG                39\n",
       "DISABILITIES                28\n",
       "TREASURER                   22\n",
       "HUMAN RELATIONS             16\n",
       "BOARD OF ETHICS              8\n",
       "POLICE BOARD                 2\n",
       "LICENSE APPL COMM            1\n",
       "Name: Department, dtype: int64"
      ]
     },
     "execution_count": 16,
     "metadata": {},
     "output_type": "execute_result"
    }
   ],
   "source": [
    "# Your code here:\n",
    "df[\"Department\"].value_counts()\n"
   ]
  },
  {
   "cell_type": "markdown",
   "metadata": {},
   "source": [
    "# Challenge 2 - Hypothesis Tests\n",
    "\n",
    "In this section of the lab, we will test whether the hourly wage of all hourly workers is significantly different from $30/hr. Import the correct one sample test function from scipy and perform the hypothesis test for a 95% two sided confidence interval."
   ]
  },
  {
   "cell_type": "code",
   "execution_count": 17,
   "metadata": {},
   "outputs": [
    {
     "name": "stdout",
     "output_type": "stream",
     "text": [
      "H1 -> rechazamos H0: el salario es significativamente diferente de 30$ por hora\n"
     ]
    }
   ],
   "source": [
    "# Your code here:\n",
    "from scipy.stats import ttest_1samp\n",
    "\n",
    "salary_to_compare = 30\n",
    "significance = 0.05 # 95%\n",
    "\n",
    "p_value = ttest_1samp(df[filter_part_time][\"Hourly Rate\"], salary_to_compare).pvalue\n",
    "\n",
    "text_h0 = 'H0 -> no podemos rechazar H0: el salario es de 30$ por hora'\n",
    "text_h1 = 'H1 -> rechazamos H0: el salario es significativamente diferente de 30$ por hora'\n",
    "print(text_h1 if p_value < significance else text_h0)"
   ]
  },
  {
   "cell_type": "markdown",
   "metadata": {},
   "source": [
    "We are also curious about salaries in the police force. The chief of police in Chicago claimed in a press briefing that salaries this year are higher than last year's mean of $86000/year a year for all salaried employees. Test this one sided hypothesis using a 95% confidence interval.\n",
    "\n",
    "Hint: A one tailed test has a p-value that is half of the two tailed p-value. If our hypothesis is greater than, then to reject, the test statistic must also be positive."
   ]
  },
  {
   "cell_type": "code",
   "execution_count": 45,
   "metadata": {},
   "outputs": [
    {
     "name": "stdout",
     "output_type": "stream",
     "text": [
      "Valores nulos: 10\n",
      "Rechazamos H0: los salarios son mayores que el año pasado\n"
     ]
    }
   ],
   "source": [
    "# Your code here:\n",
    "salary_to_compare = 86000.0\n",
    "significance = 0.05 # 95%\n",
    "\n",
    "filter_police_workers = df[\"Department\"] == \"POLICE\"\n",
    "\n",
    "# Hay valores nulos en el Annual Salary del departamento POLICE.\n",
    "print(f\"Valores nulos: {df[filter_police_workers]['Annual Salary'].isna().sum()}\")\n",
    "\n",
    "# Creo un filtro nuevo para quitar esos valores nulos\n",
    "filter_salary_not_nan = df[\"Annual Salary\"].notna()\n",
    "police_department_salaries = df[filter_police_workers & filter_salary_not_nan][\"Annual Salary\"].to_list()\n",
    "\n",
    "t_statistic, p_value = ttest_1samp(police_department_salaries, salary_to_compare)\n",
    "\n",
    "# Como el test es one-sided divido p_value por 2\n",
    "p_value = p_value / 2\n",
    "\n",
    "# Definimos las hipótesis:\n",
    "# - H0: los salarios son iguales o menores que el año anterior\n",
    "# - H1: los salarios son mayores que el año pasado\n",
    "if t_statistic > 0 and p_value < significance:\n",
    "    print(\"Rechazamos H0: los salarios son mayores que el año pasado\")\n",
    "else:\n",
    "    print(\"No podmeos rechazar H0. Los salarios no son mayores que el año pasado\")\n"
   ]
  },
  {
   "cell_type": "markdown",
   "metadata": {},
   "source": [
    "Using the `crosstab` function, find the department that has the most hourly workers. "
   ]
  },
  {
   "cell_type": "code",
   "execution_count": 46,
   "metadata": {},
   "outputs": [
    {
     "name": "stdout",
     "output_type": "stream",
     "text": [
      "El departamente con mas hourly workers es: STREETS & SAN\n"
     ]
    }
   ],
   "source": [
    "# Your code here:\n",
    "department = pd.crosstab(df[\"Department\"], df[\"Salary or Hourly\"]).sort_values(by=\"Hourly\", ascending=False).iloc[0].name\n",
    "\n",
    "print(f\"El departamente con mas hourly workers es: {department}\")"
   ]
  },
  {
   "cell_type": "markdown",
   "metadata": {},
   "source": [
    "The workers from the department with the most hourly workers have complained that their hourly wage is less than $35/hour. Using a one sample t-test, test this one-sided hypothesis at the 95% confidence level."
   ]
  },
  {
   "cell_type": "code",
   "execution_count": 56,
   "metadata": {},
   "outputs": [
    {
     "name": "stdout",
     "output_type": "stream",
     "text": [
      "Valores nulos: 336\n",
      "Rechazamos H0: los salarios son menores que el año pasado\n"
     ]
    }
   ],
   "source": [
    "# Your code here:\n",
    "salary_to_compare = 35\n",
    "significance = 0.05 # 95%\n",
    "\n",
    "filter_department = df[\"Department\"] == \"STREETS & SAN\"\n",
    "\n",
    "# Hay valores nulos\n",
    "print(f\"Valores nulos: {df[filter_department]['Hourly Rate'].isna().sum()}\")\n",
    "\n",
    "# Hago un filtro para ignorar esos valores\n",
    "filter_salary_not_nan = df[\"Hourly Rate\"].notna()\n",
    "department_hourly_rate = df[filter_department & filter_salary_not_nan][\"Hourly Rate\"].to_list()\n",
    "\n",
    "t_statistic, p_value = ttest_1samp(department_hourly_rate, salary_to_compare)\n",
    "\n",
    "# Como el test es one-sided divido p_value por 2\n",
    "p_value = p_value / 2\n",
    "\n",
    "# Definimos las hipótesis:\n",
    "# - H0: los salarios son iguales o mayores que el año anterior\n",
    "# - H1: los salarios son menores que el año pasado\n",
    "if t_statistic < 0 and p_value < significance:\n",
    "    print(\"Rechazamos H0: los salarios son menores que el año pasado\")\n",
    "else:\n",
    "    print(\"No podemos rechazar H0. Los salarios no son menores que el año pasado\")\n"
   ]
  },
  {
   "cell_type": "markdown",
   "metadata": {},
   "source": [
    "# Challenge 3: To practice - Constructing Confidence Intervals\n",
    "\n",
    "While testing our hypothesis is a great way to gather empirical evidence for accepting or rejecting the hypothesis, another way to gather evidence is by creating a confidence interval. A confidence interval gives us information about the true mean of the population. So for a 95% confidence interval, we are 95% sure that the mean of the population is within the confidence interval. \n",
    ").\n",
    "\n",
    "To read more about confidence intervals, click [here](https://en.wikipedia.org/wiki/Confidence_interval).\n",
    "\n",
    "\n",
    "In the cell below, we will construct a 95% confidence interval for the mean hourly wage of all hourly workers. \n",
    "\n",
    "The confidence interval is computed in SciPy using the `t.interval` function. You can read more about this function [here](https://docs.scipy.org/doc/scipy-0.14.0/reference/generated/scipy.stats.t.html).\n",
    "\n",
    "To compute the confidence interval of the hourly wage, use the 0.95 for the confidence level, number of rows - 1 for degrees of freedom, the mean of the sample for the location parameter and the standard error for the scale. The standard error can be computed using [this](https://docs.scipy.org/doc/scipy/reference/generated/scipy.stats.sem.html) function in SciPy."
   ]
  },
  {
   "cell_type": "code",
   "execution_count": 74,
   "metadata": {},
   "outputs": [
    {
     "name": "stdout",
     "output_type": "stream",
     "text": [
      "El intervalo de confianza esta entre 32.52345834488425 y 33.05365708767623\n"
     ]
    }
   ],
   "source": [
    "# Your code here:\n",
    "import scipy\n",
    "\n",
    "filter_hourly_workers = df[\"Salary or Hourly\"] == \"Hourly\"\n",
    "filter_salary_not_nan = df[\"Hourly Rate\"].notna()\n",
    "\n",
    "hourly_workers_salaries = df[filter_hourly_workers & filter_salary_not_nan][\"Hourly Rate\"]\n",
    "\n",
    "confidence_level = 0.95\n",
    "salaries_mean = hourly_workers_salaries.mean()\n",
    "degrees_of_freedom = len(hourly_workers_salaries) - 1\n",
    "salaries_standard_error = scipy.stats.sem(hourly_workers_salaries)\n",
    "\n",
    "confidence_min, confidence_max =scipy.stats.t.interval(confidence_level, degrees_of_freedom, salaries_mean, salaries_standard_error)\n",
    "\n",
    "print(f\"El intervalo de confianza esta entre {confidence_min} y {confidence_max}\")"
   ]
  },
  {
   "cell_type": "markdown",
   "metadata": {},
   "source": [
    "Now construct the 95% confidence interval for all salaried employeed in the police in the cell below."
   ]
  },
  {
   "cell_type": "code",
   "execution_count": 75,
   "metadata": {},
   "outputs": [
    {
     "name": "stdout",
     "output_type": "stream",
     "text": [
      "El intervalo de confianza esta entre 86177.05631531784 y 86795.77269094894\n"
     ]
    }
   ],
   "source": [
    "# Your code here:\n",
    "filter_department = df[\"Department\"] == \"POLICE\"\n",
    "filter_salary_not_nan = df[\"Annual Salary\"].notna()\n",
    "\n",
    "salaries = df[filter_department & filter_salary_not_nan][\"Annual Salary\"]\n",
    "\n",
    "confidence_level = 0.95\n",
    "salaries_mean = salaries.mean()\n",
    "degrees_of_freedom = len(salaries) - 1\n",
    "salaries_standard_error = scipy.stats.sem(salaries)\n",
    "\n",
    "confidence_min, confidence_max = scipy.stats.t.interval(confidence_level, degrees_of_freedom, salaries_mean, salaries_standard_error)\n",
    "\n",
    "print(f\"El intervalo de confianza esta entre {confidence_min} y {confidence_max}\")"
   ]
  },
  {
   "cell_type": "markdown",
   "metadata": {},
   "source": [
    "# Bonus Challenge - Hypothesis Tests of Proportions\n",
    "\n",
    "Another type of one sample test is a hypothesis test of proportions. In this test, we examine whether the proportion of a group in our sample is significantly different than a fraction. \n",
    "\n",
    "You can read more about one sample proportion tests [here](http://sphweb.bumc.bu.edu/otlt/MPH-Modules/BS/SAS/SAS6-CategoricalData/SAS6-CategoricalData2.html).\n",
    "\n",
    "In the cell below, use the `proportions_ztest` function from `statsmodels` to perform a hypothesis test that will determine whether the number of hourly workers in the City of Chicago is significantly different from 25% at the 95% confidence level."
   ]
  },
  {
   "cell_type": "code",
   "execution_count": 13,
   "metadata": {},
   "outputs": [],
   "source": [
    "# Your code here:\n",
    "\n"
   ]
  }
 ],
 "metadata": {
  "kernelspec": {
   "display_name": "Python [conda env:ironhack_env]",
   "language": "python",
   "name": "conda-env-ironhack_env-py"
  },
  "language_info": {
   "codemirror_mode": {
    "name": "ipython",
    "version": 3
   },
   "file_extension": ".py",
   "mimetype": "text/x-python",
   "name": "python",
   "nbconvert_exporter": "python",
   "pygments_lexer": "ipython3",
   "version": "3.8.5"
  }
 },
 "nbformat": 4,
 "nbformat_minor": 4
}
