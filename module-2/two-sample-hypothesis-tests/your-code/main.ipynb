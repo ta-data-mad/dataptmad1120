{
 "cells": [
  {
   "cell_type": "markdown",
   "metadata": {},
   "source": [
    "# Before your start:\n",
    "- Read the README.md file\n",
    "- Comment as much as you can and use the resources (README.md file)\n",
    "- Happy learning!"
   ]
  },
  {
   "cell_type": "code",
   "execution_count": 1,
   "metadata": {},
   "outputs": [],
   "source": [
    "# import numpy and pandas\n",
    "import pandas as pd\n",
    "import numpy as np\n"
   ]
  },
  {
   "cell_type": "markdown",
   "metadata": {},
   "source": [
    "# Challenge 1 - Independent Sample T-tests\n",
    "\n",
    "In this challenge, we will be using the Pokemon dataset. Before applying statistical methods to this data, let's first examine the data.\n",
    "\n",
    "To load the data, run the code below."
   ]
  },
  {
   "cell_type": "code",
   "execution_count": 2,
   "metadata": {},
   "outputs": [],
   "source": [
    "# Run this code:\n",
    "\n",
    "pokemon = pd.read_csv('../pokemon.csv')"
   ]
  },
  {
   "cell_type": "markdown",
   "metadata": {},
   "source": [
    "Let's start off by looking at the `head` function in the cell below."
   ]
  },
  {
   "cell_type": "code",
   "execution_count": 3,
   "metadata": {},
   "outputs": [
    {
     "data": {
      "text/html": [
       "<div>\n",
       "<style scoped>\n",
       "    .dataframe tbody tr th:only-of-type {\n",
       "        vertical-align: middle;\n",
       "    }\n",
       "\n",
       "    .dataframe tbody tr th {\n",
       "        vertical-align: top;\n",
       "    }\n",
       "\n",
       "    .dataframe thead th {\n",
       "        text-align: right;\n",
       "    }\n",
       "</style>\n",
       "<table border=\"1\" class=\"dataframe\">\n",
       "  <thead>\n",
       "    <tr style=\"text-align: right;\">\n",
       "      <th></th>\n",
       "      <th>#</th>\n",
       "      <th>Name</th>\n",
       "      <th>Type 1</th>\n",
       "      <th>Type 2</th>\n",
       "      <th>Total</th>\n",
       "      <th>HP</th>\n",
       "      <th>Attack</th>\n",
       "      <th>Defense</th>\n",
       "      <th>Sp. Atk</th>\n",
       "      <th>Sp. Def</th>\n",
       "      <th>Speed</th>\n",
       "      <th>Generation</th>\n",
       "      <th>Legendary</th>\n",
       "    </tr>\n",
       "  </thead>\n",
       "  <tbody>\n",
       "    <tr>\n",
       "      <th>0</th>\n",
       "      <td>1</td>\n",
       "      <td>Bulbasaur</td>\n",
       "      <td>Grass</td>\n",
       "      <td>Poison</td>\n",
       "      <td>318</td>\n",
       "      <td>45</td>\n",
       "      <td>49</td>\n",
       "      <td>49</td>\n",
       "      <td>65</td>\n",
       "      <td>65</td>\n",
       "      <td>45</td>\n",
       "      <td>1</td>\n",
       "      <td>False</td>\n",
       "    </tr>\n",
       "    <tr>\n",
       "      <th>1</th>\n",
       "      <td>2</td>\n",
       "      <td>Ivysaur</td>\n",
       "      <td>Grass</td>\n",
       "      <td>Poison</td>\n",
       "      <td>405</td>\n",
       "      <td>60</td>\n",
       "      <td>62</td>\n",
       "      <td>63</td>\n",
       "      <td>80</td>\n",
       "      <td>80</td>\n",
       "      <td>60</td>\n",
       "      <td>1</td>\n",
       "      <td>False</td>\n",
       "    </tr>\n",
       "    <tr>\n",
       "      <th>2</th>\n",
       "      <td>3</td>\n",
       "      <td>Venusaur</td>\n",
       "      <td>Grass</td>\n",
       "      <td>Poison</td>\n",
       "      <td>525</td>\n",
       "      <td>80</td>\n",
       "      <td>82</td>\n",
       "      <td>83</td>\n",
       "      <td>100</td>\n",
       "      <td>100</td>\n",
       "      <td>80</td>\n",
       "      <td>1</td>\n",
       "      <td>False</td>\n",
       "    </tr>\n",
       "    <tr>\n",
       "      <th>3</th>\n",
       "      <td>3</td>\n",
       "      <td>VenusaurMega Venusaur</td>\n",
       "      <td>Grass</td>\n",
       "      <td>Poison</td>\n",
       "      <td>625</td>\n",
       "      <td>80</td>\n",
       "      <td>100</td>\n",
       "      <td>123</td>\n",
       "      <td>122</td>\n",
       "      <td>120</td>\n",
       "      <td>80</td>\n",
       "      <td>1</td>\n",
       "      <td>False</td>\n",
       "    </tr>\n",
       "    <tr>\n",
       "      <th>4</th>\n",
       "      <td>4</td>\n",
       "      <td>Charmander</td>\n",
       "      <td>Fire</td>\n",
       "      <td>NaN</td>\n",
       "      <td>309</td>\n",
       "      <td>39</td>\n",
       "      <td>52</td>\n",
       "      <td>43</td>\n",
       "      <td>60</td>\n",
       "      <td>50</td>\n",
       "      <td>65</td>\n",
       "      <td>1</td>\n",
       "      <td>False</td>\n",
       "    </tr>\n",
       "  </tbody>\n",
       "</table>\n",
       "</div>"
      ],
      "text/plain": [
       "   #                   Name Type 1  Type 2  Total  HP  Attack  Defense  \\\n",
       "0  1              Bulbasaur  Grass  Poison    318  45      49       49   \n",
       "1  2                Ivysaur  Grass  Poison    405  60      62       63   \n",
       "2  3               Venusaur  Grass  Poison    525  80      82       83   \n",
       "3  3  VenusaurMega Venusaur  Grass  Poison    625  80     100      123   \n",
       "4  4             Charmander   Fire     NaN    309  39      52       43   \n",
       "\n",
       "   Sp. Atk  Sp. Def  Speed  Generation  Legendary  \n",
       "0       65       65     45           1      False  \n",
       "1       80       80     60           1      False  \n",
       "2      100      100     80           1      False  \n",
       "3      122      120     80           1      False  \n",
       "4       60       50     65           1      False  "
      ]
     },
     "execution_count": 3,
     "metadata": {},
     "output_type": "execute_result"
    }
   ],
   "source": [
    "# Your code here:\n",
    "pokemon.head()\n"
   ]
  },
  {
   "cell_type": "markdown",
   "metadata": {},
   "source": [
    "The first thing we would like to do is compare the legendary Pokemon to the regular Pokemon. To do this, we should examine the data further. What is the count of legendary vs. non legendary Pokemons?"
   ]
  },
  {
   "cell_type": "code",
   "execution_count": 9,
   "metadata": {},
   "outputs": [
    {
     "name": "stdout",
     "output_type": "stream",
     "text": [
      "Pokemons legendarios: 65\n",
      "Pokemons no legendarios: 735\n"
     ]
    }
   ],
   "source": [
    "# Your code here:\n",
    "filter_legendary = pokemon[\"Legendary\"] == True\n",
    "\n",
    "num_legendary_pokemons = len(pokemon[filter_legendary])\n",
    "num_non_legendary_pokemons = len(pokemon[~filter_legendary])\n",
    "\n",
    "print(f\"Pokemons legendarios: {num_legendary_pokemons}\")\n",
    "print(f\"Pokemons no legendarios: {num_non_legendary_pokemons}\")\n"
   ]
  },
  {
   "cell_type": "markdown",
   "metadata": {},
   "source": [
    "Compute the mean and standard deviation of the total points for both legendary and non-legendary Pokemon."
   ]
  },
  {
   "cell_type": "code",
   "execution_count": 12,
   "metadata": {},
   "outputs": [
    {
     "name": "stdout",
     "output_type": "stream",
     "text": [
      "Media del total de puntos de pokemons legendarios: 637.3846153846154\n",
      "Media del total de puntos de pokemons no legendarios: 417.21360544217686\n",
      "Desviación típica del total de puntos de pokemons legendarios: 60.93738905315344\n",
      "Desviación típica del total de puntos de pokemons no legendarios: 106.76041745713005\n"
     ]
    }
   ],
   "source": [
    "# Your code here:\n",
    "mean_legendary_pokemon_total = pokemon[filter_legendary][\"Total\"].mean()\n",
    "mean_non_legendary_pokemon_total = pokemon[~filter_legendary][\"Total\"].mean()\n",
    "stdev_legendary_pokemon_total = pokemon[filter_legendary][\"Total\"].std()\n",
    "stdev_non_legendary_pokemon_total = pokemon[~filter_legendary][\"Total\"].std()\n",
    "\n",
    "print(f\"Media del total de puntos de pokemons legendarios: {mean_legendary_pokemon_total}\")\n",
    "print(f\"Media del total de puntos de pokemons no legendarios: {mean_non_legendary_pokemon_total}\")\n",
    "print(f\"Desviación típica del total de puntos de pokemons legendarios: {stdev_legendary_pokemon_total}\")\n",
    "print(f\"Desviación típica del total de puntos de pokemons no legendarios: {stdev_non_legendary_pokemon_total}\")\n"
   ]
  },
  {
   "cell_type": "markdown",
   "metadata": {},
   "source": [
    "The computation of the mean might give us a clue regarding how the statistical test may turn out; However, it certainly does not prove whether there is a significant difference between the two groups.\n",
    "\n",
    "In the cell below, use the `ttest_ind` function in `scipy.stats` to compare the the total points for legendary and non-legendary Pokemon. Since we do not have any information about the population, assume the variances are not equal."
   ]
  },
  {
   "cell_type": "code",
   "execution_count": 14,
   "metadata": {},
   "outputs": [
    {
     "name": "stdout",
     "output_type": "stream",
     "text": [
      "El t-stat es: 16.386116965872425\n",
      "El p-value es: 3.0952457469652825e-52\n"
     ]
    }
   ],
   "source": [
    "# Your code here:\n",
    "from scipy.stats import ttest_ind\n",
    "\n",
    "t_stat, p_value = ttest_ind(pokemon[filter_legendary][\"Total\"], pokemon[~filter_legendary][\"Total\"])\n",
    "\n",
    "print(f\"El t-stat es: {t_stat}\")\n",
    "print(f\"El p-value es: {p_value}\")"
   ]
  },
  {
   "cell_type": "markdown",
   "metadata": {},
   "source": [
    "What do you conclude from this test? Write your conclusions below."
   ]
  },
  {
   "cell_type": "code",
   "execution_count": 6,
   "metadata": {},
   "outputs": [],
   "source": [
    "# Your conclusions here:\n",
    "# El t-stat es muy alto y el p-value muy bajo.\n",
    "# Si tenemos como hipótesis:\n",
    "# - H0: los puntos totales de un pokemon legendario son iguales a los puntos totales de un pokemon no legendarios.\n",
    "# - H1: los puntos totales de un pokemon legendario son mayores a los puntos totales de un pokemon no legendarios.\n",
    "\n",
    "# Con una significancia del 0.05 (95%) tenemos que el p-value es mucho menor de 0.05 y por tanto podemos rechazar H0\n",
    "# y concluir que los pokemon legendarios tienen más puntos totales que los no legendarios."
   ]
  },
  {
   "cell_type": "markdown",
   "metadata": {},
   "source": [
    "How about we try to compare the different types of pokemon? In the cell below, list the types of Pokemon from column `Type 1` and the count of each type."
   ]
  },
  {
   "cell_type": "code",
   "execution_count": 19,
   "metadata": {},
   "outputs": [
    {
     "data": {
      "text/plain": [
       "Type 1\n",
       "Water       112\n",
       "Normal       98\n",
       "Grass        70\n",
       "Bug          69\n",
       "Psychic      57\n",
       "Fire         52\n",
       "Rock         44\n",
       "Electric     44\n",
       "Ground       32\n",
       "Dragon       32\n",
       "Ghost        32\n",
       "Dark         31\n",
       "Poison       28\n",
       "Steel        27\n",
       "Fighting     27\n",
       "Ice          24\n",
       "Fairy        17\n",
       "Flying        4\n",
       "Name: #, dtype: int64"
      ]
     },
     "execution_count": 19,
     "metadata": {},
     "output_type": "execute_result"
    }
   ],
   "source": [
    "# Your code here:\n",
    "pokemon.groupby(\"Type 1\").count()[\"#\"].sort_values(ascending=False)\n"
   ]
  },
  {
   "cell_type": "markdown",
   "metadata": {},
   "source": [
    "Since water is the largest group of Pokemon, compare the mean and standard deviation of water Pokemon to all other Pokemon."
   ]
  },
  {
   "cell_type": "code",
   "execution_count": 20,
   "metadata": {},
   "outputs": [
    {
     "name": "stdout",
     "output_type": "stream",
     "text": [
      "La media del total de puntos de los pokemon de agua es: 430.45535714285717\n",
      "La desviación típica del total de puntos de los pokemon de agua es: 113.1882660643146\n",
      "La media del total de puntos de los pokemon que no son de agua es: 435.85901162790697\n",
      "La desviación típica del total de puntos de los pokemon que no son de agua es: 121.0916823020807\n"
     ]
    }
   ],
   "source": [
    "# Your code here:\n",
    "# Nota: uso la media y desviación típica del campo Total\n",
    "filter_water = pokemon[\"Type 1\"] == \"Water\"\n",
    "\n",
    "water_pokemon_total_mean = pokemon[filter_water][\"Total\"].mean()\n",
    "water_pokemon_total_stdev = pokemon[filter_water][\"Total\"].std()\n",
    "\n",
    "non_water_pokemon_total_mean = pokemon[~filter_water][\"Total\"].mean()\n",
    "non_water_pokemon_total_stdev = pokemon[~filter_water][\"Total\"].std()\n",
    "\n",
    "print(f\"La media del total de puntos de los pokemon de agua es: {water_pokemon_total_mean}\")\n",
    "print(f\"La desviación típica del total de puntos de los pokemon de agua es: {water_pokemon_total_stdev}\")\n",
    "\n",
    "print(f\"La media del total de puntos de los pokemon que no son de agua es: {non_water_pokemon_total_mean}\")\n",
    "print(f\"La desviación típica del total de puntos de los pokemon que no son de agua es: {non_water_pokemon_total_stdev}\")"
   ]
  },
  {
   "cell_type": "markdown",
   "metadata": {},
   "source": [
    "Perform a hypothesis test comparing the mean of total points for water Pokemon to all non-water Pokemon. Assume the variances are equal. "
   ]
  },
  {
   "cell_type": "code",
   "execution_count": 21,
   "metadata": {},
   "outputs": [
    {
     "name": "stdout",
     "output_type": "stream",
     "text": [
      "El t-stat es: -0.4418547448849676\n",
      "El p-value es: 0.6587140317488793\n"
     ]
    }
   ],
   "source": [
    "# Your code here:\n",
    "from scipy.stats import ttest_ind\n",
    "\n",
    "t_stat, p_value = ttest_ind(pokemon[filter_water][\"Total\"], pokemon[~filter_water][\"Total\"])\n",
    "\n",
    "print(f\"El t-stat es: {t_stat}\")\n",
    "print(f\"El p-value es: {p_value}\")\n"
   ]
  },
  {
   "cell_type": "markdown",
   "metadata": {},
   "source": [
    "Write your conclusion below."
   ]
  },
  {
   "cell_type": "code",
   "execution_count": 10,
   "metadata": {},
   "outputs": [],
   "source": [
    "# Your conclusions here:\n",
    "\n",
    "# El t-stat es bajo y el p-value alto.\n",
    "\n",
    "# Si tenemos como hipótesis:\n",
    "# - H0: los puntos totales de un pokemon de agua son iguales a los puntos totales de un pokemon que no es de agua.\n",
    "# - H1: los puntos totales de un pokemon de agua son diferentes a los puntos totales de un pokemon que no es de agua.\n",
    "\n",
    "# Con una significancia del 0.05 (95%) tenemos que el p-value mayor de 0.05 y por tanto no podemos rechazar H0\n",
    "# Concluimos que los puntos totales de los pokemon de agua no son significativamente diferentes de los de otros tipos.\n"
   ]
  },
  {
   "cell_type": "markdown",
   "metadata": {},
   "source": [
    "# Challenge 2 - Matched Pairs Test\n",
    "\n",
    "In this challenge we will compare dependent samples of data describing our Pokemon. Our goal is to see whether there is a significant difference between each Pokemon's defense and attack scores. Our hypothesis is that the defense and attack scores are equal. In the cell below, import the `ttest_rel` function from `scipy.stats` and compare the two columns to see if there is a statistically significant difference between them."
   ]
  },
  {
   "cell_type": "code",
   "execution_count": 24,
   "metadata": {},
   "outputs": [
    {
     "name": "stdout",
     "output_type": "stream",
     "text": [
      "El t-stat es: -4.325566393330478\n",
      "El p-value es: 1.7140303479358558e-05\n"
     ]
    }
   ],
   "source": [
    "# Your code here:\n",
    "from scipy.stats import ttest_rel\n",
    "\n",
    "t_stat, p_value = ttest_rel(pokemon[\"Defense\"], pokemon[\"Attack\"])\n",
    "\n",
    "print(f\"El t-stat es: {t_stat}\")\n",
    "print(f\"El p-value es: {p_value}\")"
   ]
  },
  {
   "cell_type": "markdown",
   "metadata": {},
   "source": [
    "Describe the results of the test in the cell below."
   ]
  },
  {
   "cell_type": "code",
   "execution_count": 26,
   "metadata": {},
   "outputs": [],
   "source": [
    "# Your conclusions here:\n",
    "\n",
    "# El valor absoluto del t-estadístico es alto y el p-value es muy bajo.\n",
    "\n",
    "# Nuestras hipótesis son:\n",
    "# - H0: el valor de ataque y defensa de los pokemon es igual.\n",
    "# - H1: el valor de ataque y defensa de los pokemon es significativamente diferente.\n",
    "\n",
    "# La significancia la ponemos en 0.05 (95%)\n",
    "\n",
    "# Como el p-value es menor que la significancia podemos descartar H0: \n",
    "# la conclusión es que el valor de ataque y defensa es significativamente diferente.\n",
    "\n",
    "# Como el t-estadístico es negativo podemos decir también que el valor de defensa es menor que el de ataque.\n"
   ]
  },
  {
   "cell_type": "markdown",
   "metadata": {},
   "source": [
    "We are also curious about whether therer is a significant difference between the mean of special defense and the mean of special attack. Perform the hypothesis test in the cell below. "
   ]
  },
  {
   "cell_type": "code",
   "execution_count": 27,
   "metadata": {},
   "outputs": [
    {
     "name": "stdout",
     "output_type": "stream",
     "text": [
      "El t-stat es: -0.853986188453353\n",
      "El p-value es: 0.3933685997548122\n"
     ]
    }
   ],
   "source": [
    "# Your code here:\n",
    "t_stat, p_value = ttest_rel(pokemon[\"Sp. Def\"], pokemon[\"Sp. Atk\"])\n",
    "\n",
    "print(f\"El t-stat es: {t_stat}\")\n",
    "print(f\"El p-value es: {p_value}\")"
   ]
  },
  {
   "cell_type": "markdown",
   "metadata": {},
   "source": [
    "Describe the results of the test in the cell below."
   ]
  },
  {
   "cell_type": "code",
   "execution_count": 29,
   "metadata": {},
   "outputs": [],
   "source": [
    "# Your conclusions here:\n",
    "\n",
    "# El valor absoluto del t-estadístico es bajo y el p-value es alto.\n",
    "\n",
    "# Con las hipótesis:\n",
    "# - H0: el valor del ataque especial y la defensa especial son similares en todos los pokemon.\n",
    "# - H1: el valor de ataque especial es diferente del de defensa especial en los pokemon.\n",
    "\n",
    "# Con una significancia de 0.05 sacamos estas conclusiones:\n",
    "# - Como p-value es mayor de la significancia no podemos rechazar H0. El valor de defensa \n",
    "#   y ataque especiales son, en el global de los pokemon, similares.\n"
   ]
  },
  {
   "cell_type": "markdown",
   "metadata": {},
   "source": [
    "As you may recall, a two sample matched pairs test can also be expressed as a one sample test of the difference between the two dependent columns.\n",
    "\n",
    "Import the `ttest_1samp` function and perform a one sample t-test of the difference between defense and attack. Test the hypothesis that the difference between the means is zero. Confirm that the results of the test are the same."
   ]
  },
  {
   "cell_type": "code",
   "execution_count": 36,
   "metadata": {},
   "outputs": [
    {
     "name": "stdout",
     "output_type": "stream",
     "text": [
      "El t-stat con un samples es: -4.325566393330478\n",
      "El t-stat con dos samples es: -4.325566393330478\n",
      "El p-value con un samples es: 1.7140303479358558e-05\n",
      "El p-value con dos samples es: 1.7140303479358558e-05\n"
     ]
    }
   ],
   "source": [
    "# Your code here:\n",
    "from scipy.stats import ttest_1samp\n",
    "\n",
    "# Test 1 sample: difference between pokemon defense and attack against a mean of 0\n",
    "pokemon_def_vs_attack = list(pokemon[\"Defense\"] - pokemon[\"Attack\"])\n",
    "t_stat_one_sample, p_value_one_sample = ttest_1samp(pokemon_def_vs_attack, 0)\n",
    "\n",
    "# Test 2 samples: pokemon defense vs pokemon attack\n",
    "t_stat_two_sample, p_value_two_sample = ttest_rel(pokemon[\"Defense\"], pokemon[\"Attack\"])\n",
    "\n",
    "# Notice the results are the same:\n",
    "print(f\"El t-stat con un samples es: {t_stat_one_sample}\")\n",
    "print(f\"El t-stat con dos samples es: {t_stat_two_sample}\")\n",
    "\n",
    "print(f\"El p-value con un samples es: {p_value_one_sample}\")\n",
    "print(f\"El p-value con dos samples es: {p_value_two_sample}\")\n"
   ]
  },
  {
   "cell_type": "markdown",
   "metadata": {},
   "source": [
    "# Bonus Challenge - The Chi-Square Test\n",
    "\n",
    "The Chi-Square test is used to determine whether there is a statistically significant difference in frequencies. In other words, we are testing whether there is a relationship between categorical variables or rather when the variables are independent. This test is an alternative to Fisher's exact test and is used in scenarios where sample sizes are larger. However, with a large enough sample size, both tests produce similar results. Read more about the Chi Squared test [here](https://en.wikipedia.org/wiki/Chi-squared_test).\n",
    "\n",
    "In the cell below, create a contingency table using `pd.crosstab` comparing whether a Pokemon is legenadary or not and whether the Type 1 of a Pokemon is water or not."
   ]
  },
  {
   "cell_type": "code",
   "execution_count": 45,
   "metadata": {},
   "outputs": [
    {
     "data": {
      "text/html": [
       "<div>\n",
       "<style scoped>\n",
       "    .dataframe tbody tr th:only-of-type {\n",
       "        vertical-align: middle;\n",
       "    }\n",
       "\n",
       "    .dataframe tbody tr th {\n",
       "        vertical-align: top;\n",
       "    }\n",
       "\n",
       "    .dataframe thead th {\n",
       "        text-align: right;\n",
       "    }\n",
       "</style>\n",
       "<table border=\"1\" class=\"dataframe\">\n",
       "  <thead>\n",
       "    <tr style=\"text-align: right;\">\n",
       "      <th>Type 1</th>\n",
       "      <th>Bug</th>\n",
       "      <th>Dark</th>\n",
       "      <th>Dragon</th>\n",
       "      <th>Electric</th>\n",
       "      <th>Fairy</th>\n",
       "      <th>Fighting</th>\n",
       "      <th>Fire</th>\n",
       "      <th>Flying</th>\n",
       "      <th>Ghost</th>\n",
       "      <th>Grass</th>\n",
       "      <th>Ground</th>\n",
       "      <th>Ice</th>\n",
       "      <th>Normal</th>\n",
       "      <th>Poison</th>\n",
       "      <th>Psychic</th>\n",
       "      <th>Rock</th>\n",
       "      <th>Steel</th>\n",
       "      <th>Water</th>\n",
       "    </tr>\n",
       "    <tr>\n",
       "      <th>Legendary</th>\n",
       "      <th></th>\n",
       "      <th></th>\n",
       "      <th></th>\n",
       "      <th></th>\n",
       "      <th></th>\n",
       "      <th></th>\n",
       "      <th></th>\n",
       "      <th></th>\n",
       "      <th></th>\n",
       "      <th></th>\n",
       "      <th></th>\n",
       "      <th></th>\n",
       "      <th></th>\n",
       "      <th></th>\n",
       "      <th></th>\n",
       "      <th></th>\n",
       "      <th></th>\n",
       "      <th></th>\n",
       "    </tr>\n",
       "  </thead>\n",
       "  <tbody>\n",
       "    <tr>\n",
       "      <th>False</th>\n",
       "      <td>69</td>\n",
       "      <td>29</td>\n",
       "      <td>20</td>\n",
       "      <td>40</td>\n",
       "      <td>16</td>\n",
       "      <td>27</td>\n",
       "      <td>47</td>\n",
       "      <td>2</td>\n",
       "      <td>30</td>\n",
       "      <td>67</td>\n",
       "      <td>28</td>\n",
       "      <td>22</td>\n",
       "      <td>96</td>\n",
       "      <td>28</td>\n",
       "      <td>43</td>\n",
       "      <td>40</td>\n",
       "      <td>23</td>\n",
       "      <td>108</td>\n",
       "    </tr>\n",
       "    <tr>\n",
       "      <th>True</th>\n",
       "      <td>0</td>\n",
       "      <td>2</td>\n",
       "      <td>12</td>\n",
       "      <td>4</td>\n",
       "      <td>1</td>\n",
       "      <td>0</td>\n",
       "      <td>5</td>\n",
       "      <td>2</td>\n",
       "      <td>2</td>\n",
       "      <td>3</td>\n",
       "      <td>4</td>\n",
       "      <td>2</td>\n",
       "      <td>2</td>\n",
       "      <td>0</td>\n",
       "      <td>14</td>\n",
       "      <td>4</td>\n",
       "      <td>4</td>\n",
       "      <td>4</td>\n",
       "    </tr>\n",
       "  </tbody>\n",
       "</table>\n",
       "</div>"
      ],
      "text/plain": [
       "Type 1     Bug  Dark  Dragon  Electric  Fairy  Fighting  Fire  Flying  Ghost  \\\n",
       "Legendary                                                                      \n",
       "False       69    29      20        40     16        27    47       2     30   \n",
       "True         0     2      12         4      1         0     5       2      2   \n",
       "\n",
       "Type 1     Grass  Ground  Ice  Normal  Poison  Psychic  Rock  Steel  Water  \n",
       "Legendary                                                                   \n",
       "False         67      28   22      96      28       43    40     23    108  \n",
       "True           3       4    2       2       0       14     4      4      4  "
      ]
     },
     "execution_count": 45,
     "metadata": {},
     "output_type": "execute_result"
    }
   ],
   "source": [
    "# Your code here:\n",
    "df = pd.crosstab(pokemon[\"Legendary\"], pokemon[\"Type 1\"])\n",
    "df"
   ]
  },
  {
   "cell_type": "markdown",
   "metadata": {},
   "source": [
    "Perform a chi-squared test using the `chi2_contingency` function in `scipy.stats`. You can read the documentation of the function [here](https://docs.scipy.org/doc/scipy-0.15.1/reference/generated/scipy.stats.chi2_contingency.html)."
   ]
  },
  {
   "cell_type": "code",
   "execution_count": 54,
   "metadata": {},
   "outputs": [
    {
     "name": "stdout",
     "output_type": "stream",
     "text": [
      "Valor Chi^2 estadistico: 90.4204913058596\n",
      "Valor p-value estadistico: 5.118547414721704e-12\n",
      "Grados de Libertad: 17\n"
     ]
    }
   ],
   "source": [
    "# Your code here:\n",
    "from scipy.stats import chi2_contingency\n",
    "\n",
    "chi2_stat, p_value, dof, expected_vals = chi2_contingency(df, correction=False)\n",
    "\n",
    "print(f\"Valor Chi^2 estadistico: {chi2_stat}\")\n",
    "print(f\"Valor p-value estadistico: {p_value}\")\n",
    "print(f\"Grados de Libertad: {dof}\")\n",
    "#print(f\"Valores esperados: {expected_vals}\")"
   ]
  },
  {
   "cell_type": "markdown",
   "metadata": {},
   "source": [
    "Based on a 95% confidence, should we reject the null hypothesis?"
   ]
  },
  {
   "cell_type": "code",
   "execution_count": 19,
   "metadata": {},
   "outputs": [],
   "source": [
    "# Your answer here:\n",
    "\n",
    "# Las hipótesis:\n",
    "# - H0: el valor de tipo de pokemon y el de legendario no están relacionados.\n",
    "# - H1: el tipo de pokemon esta relacionado con el parametro legendario.\n",
    "\n",
    "# La significancia es del 0.05 (95%).\n",
    "\n",
    "# Como el p-value es menor que la significancia podemos rechazar la hipótesis nula.\n",
    "# Conclusión: el tipo de pokemon está relacionado con la característica de legendario."
   ]
  },
  {
   "cell_type": "code",
   "execution_count": null,
   "metadata": {},
   "outputs": [],
   "source": []
  }
 ],
 "metadata": {
  "kernelspec": {
   "display_name": "Python [conda env:ironhack_env]",
   "language": "python",
   "name": "conda-env-ironhack_env-py"
  },
  "language_info": {
   "codemirror_mode": {
    "name": "ipython",
    "version": 3
   },
   "file_extension": ".py",
   "mimetype": "text/x-python",
   "name": "python",
   "nbconvert_exporter": "python",
   "pygments_lexer": "ipython3",
   "version": "3.8.5"
  }
 },
 "nbformat": 4,
 "nbformat_minor": 4
}
